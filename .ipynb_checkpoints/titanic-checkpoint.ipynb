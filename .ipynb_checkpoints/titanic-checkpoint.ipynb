{
 "cells": [
  {
   "cell_type": "markdown",
   "metadata": {},
   "source": [
    "-仮説、何故そうなったのか、発想力をアピール\n",
    "- 空いている行を削除\n",
    "- 一つのセルに、グラフ、それぞれのグラフの説明を入れる\n",
    "- 説明を増やす"
   ]
  },
  {
   "cell_type": "markdown",
   "metadata": {},
   "source": [
    "# <span style=\"color: Blue; \">Kaggeleのtitanicの生存者予測</span>\n",
    "## 使用するData:https://www.kaggle.com/c/titanic\n",
    "- trainデータ（891行、12列）、tesｔデータ（418行、11列）\n",
    "- 生存1、生存ではない0のどちらかを機械学習で予測\n",
    "- 説明変数は生存率とクロス集計をして生存、生存ではないの幅が最大30%以上あれば採用\n",
    "- 度数が50以下は過学習になるため可能性があるので、他の特徴と統一することにする"
   ]
  },
  {
   "cell_type": "markdown",
   "metadata": {},
   "source": [
    "## 使用外部ライブラリ\n",
    "\n",
    "- numpy==1.18.1\n",
    "- matplotlib==3.1.3\n",
    "- pandas==1.0.1\n",
    "- seaborn==0.10.0\n",
    "- scikit-learn==0.22.1"
   ]
  },
  {
   "cell_type": "markdown",
   "metadata": {},
   "source": [
    "## ■dataの読み込み\n",
    "- ファイル読み込みを行、train dateとtestdateを合わせる\n",
    "- 前処理のmoduleをimport"
   ]
  },
  {
   "cell_type": "code",
   "execution_count": 220,
   "metadata": {},
   "outputs": [],
   "source": [
    "import numpy as np\n",
    "import matplotlib.pyplot as plt\n",
    "%matplotlib inline\n",
    "import pandas as pd\n",
    "import seaborn as sns\n",
    "from sklearn.model_selection import train_test_split\n",
    "from sklearn.model_selection import GridSearchCV\n",
    "from sklearn.tree import DecisionTreeClassifier\n",
    "from sklearn.ensemble import RandomForestClassifier\n",
    "from sklearn.svm import SVC, LinearSVC\n",
    "from sklearn.metrics import accuracy_score,confusion_matrix\n",
    "\n",
    "\n",
    "train = pd.read_csv('data/train.csv')\n",
    "test = pd.read_csv('data/test.csv')\n",
    "passengerID = test['PassengerId']\n",
    "Survived = train['Survived']\n",
    "train['train_or_test']='train'\n",
    "test['train_or_test']='test'\n",
    "alldata = pd.concat([train,test], axis=0, sort=False)"
   ]
  },
  {
   "cell_type": "markdown",
   "metadata": {},
   "source": [
    "## ■Dataの全体確認\n",
    "- headで頭５件のデータを確認\n",
    "- infoでデータ数、データの種類を確認\n",
    "- describeで統計データを確認する"
   ]
  },
  {
   "cell_type": "code",
   "execution_count": 157,
   "metadata": {},
   "outputs": [
    {
     "data": {
      "text/html": [
       "<div>\n",
       "<style scoped>\n",
       "    .dataframe tbody tr th:only-of-type {\n",
       "        vertical-align: middle;\n",
       "    }\n",
       "\n",
       "    .dataframe tbody tr th {\n",
       "        vertical-align: top;\n",
       "    }\n",
       "\n",
       "    .dataframe thead th {\n",
       "        text-align: right;\n",
       "    }\n",
       "</style>\n",
       "<table border=\"1\" class=\"dataframe\">\n",
       "  <thead>\n",
       "    <tr style=\"text-align: right;\">\n",
       "      <th></th>\n",
       "      <th>PassengerId</th>\n",
       "      <th>Survived</th>\n",
       "      <th>Pclass</th>\n",
       "      <th>Name</th>\n",
       "      <th>Sex</th>\n",
       "      <th>Age</th>\n",
       "      <th>SibSp</th>\n",
       "      <th>Parch</th>\n",
       "      <th>Ticket</th>\n",
       "      <th>Fare</th>\n",
       "      <th>Cabin</th>\n",
       "      <th>Embarked</th>\n",
       "      <th>train_or_test</th>\n",
       "    </tr>\n",
       "  </thead>\n",
       "  <tbody>\n",
       "    <tr>\n",
       "      <th>0</th>\n",
       "      <td>1</td>\n",
       "      <td>0.0</td>\n",
       "      <td>3</td>\n",
       "      <td>Braund, Mr. Owen Harris</td>\n",
       "      <td>male</td>\n",
       "      <td>22.0</td>\n",
       "      <td>1</td>\n",
       "      <td>0</td>\n",
       "      <td>A/5 21171</td>\n",
       "      <td>7.2500</td>\n",
       "      <td>NaN</td>\n",
       "      <td>S</td>\n",
       "      <td>train</td>\n",
       "    </tr>\n",
       "    <tr>\n",
       "      <th>1</th>\n",
       "      <td>2</td>\n",
       "      <td>1.0</td>\n",
       "      <td>1</td>\n",
       "      <td>Cumings, Mrs. John Bradley (Florence Briggs Th...</td>\n",
       "      <td>female</td>\n",
       "      <td>38.0</td>\n",
       "      <td>1</td>\n",
       "      <td>0</td>\n",
       "      <td>PC 17599</td>\n",
       "      <td>71.2833</td>\n",
       "      <td>C85</td>\n",
       "      <td>C</td>\n",
       "      <td>train</td>\n",
       "    </tr>\n",
       "    <tr>\n",
       "      <th>2</th>\n",
       "      <td>3</td>\n",
       "      <td>1.0</td>\n",
       "      <td>3</td>\n",
       "      <td>Heikkinen, Miss. Laina</td>\n",
       "      <td>female</td>\n",
       "      <td>26.0</td>\n",
       "      <td>0</td>\n",
       "      <td>0</td>\n",
       "      <td>STON/O2. 3101282</td>\n",
       "      <td>7.9250</td>\n",
       "      <td>NaN</td>\n",
       "      <td>S</td>\n",
       "      <td>train</td>\n",
       "    </tr>\n",
       "    <tr>\n",
       "      <th>3</th>\n",
       "      <td>4</td>\n",
       "      <td>1.0</td>\n",
       "      <td>1</td>\n",
       "      <td>Futrelle, Mrs. Jacques Heath (Lily May Peel)</td>\n",
       "      <td>female</td>\n",
       "      <td>35.0</td>\n",
       "      <td>1</td>\n",
       "      <td>0</td>\n",
       "      <td>113803</td>\n",
       "      <td>53.1000</td>\n",
       "      <td>C123</td>\n",
       "      <td>S</td>\n",
       "      <td>train</td>\n",
       "    </tr>\n",
       "    <tr>\n",
       "      <th>4</th>\n",
       "      <td>5</td>\n",
       "      <td>0.0</td>\n",
       "      <td>3</td>\n",
       "      <td>Allen, Mr. William Henry</td>\n",
       "      <td>male</td>\n",
       "      <td>35.0</td>\n",
       "      <td>0</td>\n",
       "      <td>0</td>\n",
       "      <td>373450</td>\n",
       "      <td>8.0500</td>\n",
       "      <td>NaN</td>\n",
       "      <td>S</td>\n",
       "      <td>train</td>\n",
       "    </tr>\n",
       "  </tbody>\n",
       "</table>\n",
       "</div>"
      ],
      "text/plain": [
       "   PassengerId  Survived  Pclass  \\\n",
       "0            1       0.0       3   \n",
       "1            2       1.0       1   \n",
       "2            3       1.0       3   \n",
       "3            4       1.0       1   \n",
       "4            5       0.0       3   \n",
       "\n",
       "                                                Name     Sex   Age  SibSp  \\\n",
       "0                            Braund, Mr. Owen Harris    male  22.0      1   \n",
       "1  Cumings, Mrs. John Bradley (Florence Briggs Th...  female  38.0      1   \n",
       "2                             Heikkinen, Miss. Laina  female  26.0      0   \n",
       "3       Futrelle, Mrs. Jacques Heath (Lily May Peel)  female  35.0      1   \n",
       "4                           Allen, Mr. William Henry    male  35.0      0   \n",
       "\n",
       "   Parch            Ticket     Fare Cabin Embarked train_or_test  \n",
       "0      0         A/5 21171   7.2500   NaN        S         train  \n",
       "1      0          PC 17599  71.2833   C85        C         train  \n",
       "2      0  STON/O2. 3101282   7.9250   NaN        S         train  \n",
       "3      0            113803  53.1000  C123        S         train  \n",
       "4      0            373450   8.0500   NaN        S         train  "
      ]
     },
     "execution_count": 157,
     "metadata": {},
     "output_type": "execute_result"
    }
   ],
   "source": [
    "alldata.head()"
   ]
  },
  {
   "cell_type": "code",
   "execution_count": 158,
   "metadata": {},
   "outputs": [
    {
     "data": {
      "text/html": [
       "<div>\n",
       "<style scoped>\n",
       "    .dataframe tbody tr th:only-of-type {\n",
       "        vertical-align: middle;\n",
       "    }\n",
       "\n",
       "    .dataframe tbody tr th {\n",
       "        vertical-align: top;\n",
       "    }\n",
       "\n",
       "    .dataframe thead th {\n",
       "        text-align: right;\n",
       "    }\n",
       "</style>\n",
       "<table border=\"1\" class=\"dataframe\">\n",
       "  <thead>\n",
       "    <tr style=\"text-align: right;\">\n",
       "      <th></th>\n",
       "      <th>PassengerId</th>\n",
       "      <th>Survived</th>\n",
       "      <th>Pclass</th>\n",
       "      <th>Age</th>\n",
       "      <th>SibSp</th>\n",
       "      <th>Parch</th>\n",
       "      <th>Fare</th>\n",
       "    </tr>\n",
       "  </thead>\n",
       "  <tbody>\n",
       "    <tr>\n",
       "      <th>count</th>\n",
       "      <td>1309.000000</td>\n",
       "      <td>891.000000</td>\n",
       "      <td>1309.000000</td>\n",
       "      <td>1046.000000</td>\n",
       "      <td>1309.000000</td>\n",
       "      <td>1309.000000</td>\n",
       "      <td>1308.000000</td>\n",
       "    </tr>\n",
       "    <tr>\n",
       "      <th>mean</th>\n",
       "      <td>655.000000</td>\n",
       "      <td>0.383838</td>\n",
       "      <td>2.294882</td>\n",
       "      <td>29.881138</td>\n",
       "      <td>0.498854</td>\n",
       "      <td>0.385027</td>\n",
       "      <td>33.295479</td>\n",
       "    </tr>\n",
       "    <tr>\n",
       "      <th>std</th>\n",
       "      <td>378.020061</td>\n",
       "      <td>0.486592</td>\n",
       "      <td>0.837836</td>\n",
       "      <td>14.413493</td>\n",
       "      <td>1.041658</td>\n",
       "      <td>0.865560</td>\n",
       "      <td>51.758668</td>\n",
       "    </tr>\n",
       "    <tr>\n",
       "      <th>min</th>\n",
       "      <td>1.000000</td>\n",
       "      <td>0.000000</td>\n",
       "      <td>1.000000</td>\n",
       "      <td>0.170000</td>\n",
       "      <td>0.000000</td>\n",
       "      <td>0.000000</td>\n",
       "      <td>0.000000</td>\n",
       "    </tr>\n",
       "    <tr>\n",
       "      <th>25%</th>\n",
       "      <td>328.000000</td>\n",
       "      <td>0.000000</td>\n",
       "      <td>2.000000</td>\n",
       "      <td>21.000000</td>\n",
       "      <td>0.000000</td>\n",
       "      <td>0.000000</td>\n",
       "      <td>7.895800</td>\n",
       "    </tr>\n",
       "    <tr>\n",
       "      <th>50%</th>\n",
       "      <td>655.000000</td>\n",
       "      <td>0.000000</td>\n",
       "      <td>3.000000</td>\n",
       "      <td>28.000000</td>\n",
       "      <td>0.000000</td>\n",
       "      <td>0.000000</td>\n",
       "      <td>14.454200</td>\n",
       "    </tr>\n",
       "    <tr>\n",
       "      <th>75%</th>\n",
       "      <td>982.000000</td>\n",
       "      <td>1.000000</td>\n",
       "      <td>3.000000</td>\n",
       "      <td>39.000000</td>\n",
       "      <td>1.000000</td>\n",
       "      <td>0.000000</td>\n",
       "      <td>31.275000</td>\n",
       "    </tr>\n",
       "    <tr>\n",
       "      <th>max</th>\n",
       "      <td>1309.000000</td>\n",
       "      <td>1.000000</td>\n",
       "      <td>3.000000</td>\n",
       "      <td>80.000000</td>\n",
       "      <td>8.000000</td>\n",
       "      <td>9.000000</td>\n",
       "      <td>512.329200</td>\n",
       "    </tr>\n",
       "  </tbody>\n",
       "</table>\n",
       "</div>"
      ],
      "text/plain": [
       "       PassengerId    Survived       Pclass          Age        SibSp  \\\n",
       "count  1309.000000  891.000000  1309.000000  1046.000000  1309.000000   \n",
       "mean    655.000000    0.383838     2.294882    29.881138     0.498854   \n",
       "std     378.020061    0.486592     0.837836    14.413493     1.041658   \n",
       "min       1.000000    0.000000     1.000000     0.170000     0.000000   \n",
       "25%     328.000000    0.000000     2.000000    21.000000     0.000000   \n",
       "50%     655.000000    0.000000     3.000000    28.000000     0.000000   \n",
       "75%     982.000000    1.000000     3.000000    39.000000     1.000000   \n",
       "max    1309.000000    1.000000     3.000000    80.000000     8.000000   \n",
       "\n",
       "             Parch         Fare  \n",
       "count  1309.000000  1308.000000  \n",
       "mean      0.385027    33.295479  \n",
       "std       0.865560    51.758668  \n",
       "min       0.000000     0.000000  \n",
       "25%       0.000000     7.895800  \n",
       "50%       0.000000    14.454200  \n",
       "75%       0.000000    31.275000  \n",
       "max       9.000000   512.329200  "
      ]
     },
     "execution_count": 158,
     "metadata": {},
     "output_type": "execute_result"
    }
   ],
   "source": [
    "alldata.describe()"
   ]
  },
  {
   "cell_type": "code",
   "execution_count": 159,
   "metadata": {},
   "outputs": [
    {
     "name": "stdout",
     "output_type": "stream",
     "text": [
      "<class 'pandas.core.frame.DataFrame'>\n",
      "Int64Index: 1309 entries, 0 to 417\n",
      "Data columns (total 13 columns):\n",
      " #   Column         Non-Null Count  Dtype  \n",
      "---  ------         --------------  -----  \n",
      " 0   PassengerId    1309 non-null   int64  \n",
      " 1   Survived       891 non-null    float64\n",
      " 2   Pclass         1309 non-null   int64  \n",
      " 3   Name           1309 non-null   object \n",
      " 4   Sex            1309 non-null   object \n",
      " 5   Age            1046 non-null   float64\n",
      " 6   SibSp          1309 non-null   int64  \n",
      " 7   Parch          1309 non-null   int64  \n",
      " 8   Ticket         1309 non-null   object \n",
      " 9   Fare           1308 non-null   float64\n",
      " 10  Cabin          295 non-null    object \n",
      " 11  Embarked       1307 non-null   object \n",
      " 12  train_or_test  1309 non-null   object \n",
      "dtypes: float64(3), int64(4), object(6)\n",
      "memory usage: 143.2+ KB\n"
     ]
    }
   ],
   "source": [
    "alldata.info()"
   ]
  },
  {
   "cell_type": "markdown",
   "metadata": {},
   "source": [
    "\n",
    "\n",
    "\n",
    "\n",
    "\n",
    "## ■Pclassの生存割合を確認\n",
    "- Pclassは、１、２、３と３つに分かれている\n",
    "- 3は死亡者が70%付近、1は死亡者35%付近と35%以上の幅はある"
   ]
  },
  {
   "cell_type": "code",
   "execution_count": 160,
   "metadata": {},
   "outputs": [
    {
     "data": {
      "text/plain": [
       "<matplotlib.axes._subplots.AxesSubplot at 0x1a1cfef7d0>"
      ]
     },
     "execution_count": 160,
     "metadata": {},
     "output_type": "execute_result"
    },
    {
     "data": {
      "image/png": "[encoded data removed]",
      "text/plain": [
       "<Figure size 432x288 with 1 Axes>"
      ]
     },
     "metadata": {
      "needs_background": "light"
     },
     "output_type": "display_data"
    }
   ],
   "source": [
    "pclassdate = pd.crosstab(train['Pclass'],train['Survived']).apply(lambda x: x/x.sum() * 100, axis=1)\n",
    "pclassdate.plot.bar(stacked=True)"
   ]
  },
  {
   "cell_type": "markdown",
   "metadata": {},
   "source": [
    "- 度数も50以上あるので、説明変数として採用\n",
    "\n",
    "|採用項目|値|\n",
    "|-|-|\n",
    "|Pclass|1,2,3|"
   ]
  },
  {
   "cell_type": "code",
   "execution_count": 161,
   "metadata": {},
   "outputs": [
    {
     "data": {
      "text/plain": [
       "<matplotlib.axes._subplots.AxesSubplot at 0x1a1d132490>"
      ]
     },
     "execution_count": 161,
     "metadata": {},
     "output_type": "execute_result"
    },
    {
     "data": {
      "image/png": "[encoded data removed]",
      "text/plain": [
       "<Figure size 432x288 with 1 Axes>"
      ]
     },
     "metadata": {
      "needs_background": "light"
     },
     "output_type": "display_data"
    }
   ],
   "source": [
    "pclassdate = pd.crosstab(alldata['Pclass'],alldata.Survived.count())\n",
    "pclassdate.plot.bar(stacked=True)"
   ]
  },
  {
   "cell_type": "markdown",
   "metadata": {},
   "source": [
    "## ■Nameの長さで生存率を確認\n",
    "\n",
    "- 名前の長さによって、その人の特徴が変わるかもしれないので、名前の長さを説明変数を確認してみる\n",
    "- \"Name_length\"列を作成して、Name列の名前の長さを挿入する\n",
    "- 名前の長さをヒストグラムで確認"
   ]
  },
  {
   "cell_type": "code",
   "execution_count": 162,
   "metadata": {},
   "outputs": [
    {
     "data": {
      "text/plain": [
       "(array([676., 479., 133.,  20.,   1.]),\n",
       " array([12., 26., 40., 54., 68., 82.]),\n",
       " <a list of 5 Patch objects>)"
      ]
     },
     "execution_count": 162,
     "metadata": {},
     "output_type": "execute_result"
    },
    {
     "data": {
      "image/png": "[encoded data removed]",
      "text/plain": [
       "<Figure size 432x288 with 1 Axes>"
      ]
     },
     "metadata": {
      "needs_background": "light"
     },
     "output_type": "display_data"
    }
   ],
   "source": [
    "alldata[\"Name_length\"] = alldata['Name'].map(lambda x: len(x))\n",
    "plt.hist(alldata['Name_length'],bins=5)"
   ]
  },
  {
   "cell_type": "markdown",
   "metadata": {},
   "source": [
    "- 名前の長さ25以下を1に、25〜39まで2に、39以上を3に\n",
    "- 1が死亡者70%、3が20%以下なので幅は問題なし"
   ]
  },
  {
   "cell_type": "code",
   "execution_count": 163,
   "metadata": {},
   "outputs": [
    {
     "data": {
      "text/plain": [
       "<matplotlib.axes._subplots.AxesSubplot at 0x1a1cfed7d0>"
      ]
     },
     "execution_count": 163,
     "metadata": {},
     "output_type": "execute_result"
    },
    {
     "data": {
      "image/png": "[encoded data removed]",
      "text/plain": [
       "<Figure size 432x288 with 1 Axes>"
      ]
     },
     "metadata": {
      "needs_background": "light"
     },
     "output_type": "display_data"
    }
   ],
   "source": [
    "alldata.loc[(alldata['Name_length'] >10 ) & (alldata['Name_length'] <= 25 ),['Name_length']]= 1\n",
    "alldata.loc[(alldata['Name_length'] > 25) & (alldata['Name_length'] <= 39) ,['Name_length']]= 2\n",
    "alldata.loc[(alldata['Name_length'] > 39) ,['Name_length']]= 3\n",
    "\n",
    "name_lengthdate = pd.crosstab(alldata['Name_length'],alldata['Survived']).apply(lambda x: x/x.sum() * 100, axis=1)\n",
    "name_lengthdate.plot.bar(stacked=True)"
   ]
  },
  {
   "cell_type": "markdown",
   "metadata": {},
   "source": [
    "- 度数が50以上なので説明変数として採用\n",
    "\n",
    "|採用項目|値|\n",
    "|-|-|\n",
    "|Pclass|1,2,3|\n",
    "|Name_length|1,2,3|"
   ]
  },
  {
   "cell_type": "code",
   "execution_count": 164,
   "metadata": {},
   "outputs": [
    {
     "data": {
      "text/plain": [
       "<matplotlib.axes._subplots.AxesSubplot at 0x1a1e2df390>"
      ]
     },
     "execution_count": 164,
     "metadata": {},
     "output_type": "execute_result"
    },
    {
     "data": {
      "image/png": "[encoded data removed]",
      "text/plain": [
       "<Figure size 432x288 with 1 Axes>"
      ]
     },
     "metadata": {
      "needs_background": "light"
     },
     "output_type": "display_data"
    }
   ],
   "source": [
    "name_lengthdate = pd.crosstab(alldata['Name_length'],alldata.Survived.count())\n",
    "name_lengthdate.plot.bar(stacked=True)"
   ]
  },
  {
   "cell_type": "markdown",
   "metadata": {},
   "source": [
    "## ■Nameの敬称から生存率を確認\n",
    "- 敬称によって、その人の特徴があるかもしれないので確認してみる\n",
    "- honorific列を作成して、splitでNameのそれぞれの敬称を挿入\n",
    "- 死亡率が80%以上のMrとその他の100%の敬称を1に\n",
    "- MissとMrsを2に、その他の生存者しかいない敬称も2とする\n",
    "- その他を全て3にする\n",
    "\n",
    "|採用項目|値|\n",
    "|-|-|\n",
    "|Pclass|1,2,3|\n",
    "|Name_length|1,2,3|\n",
    "|honorific|1,2,3|"
   ]
  },
  {
   "cell_type": "code",
   "execution_count": 165,
   "metadata": {},
   "outputs": [],
   "source": [
    "alldata['honorific'] = alldata['Name'].map(lambda x: x.split(', ')[1])\n",
    "alldata['honorific'] = alldata['honorific'].map(lambda x: x.split('. ')[0])"
   ]
  },
  {
   "cell_type": "code",
   "execution_count": 166,
   "metadata": {},
   "outputs": [
    {
     "data": {
      "text/plain": [
       "<matplotlib.axes._subplots.AxesSubplot at 0x1a1f009b50>"
      ]
     },
     "execution_count": 166,
     "metadata": {},
     "output_type": "execute_result"
    },
    {
     "data": {
      "image/png": "[encoded data removed]",
      "text/plain": [
       "<Figure size 432x288 with 1 Axes>"
      ]
     },
     "metadata": {
      "needs_background": "light"
     },
     "output_type": "display_data"
    },
    {
     "data": {
      "image/png": "[encoded data removed]",
      "text/plain": [
       "<Figure size 432x288 with 1 Axes>"
      ]
     },
     "metadata": {
      "needs_background": "light"
     },
     "output_type": "display_data"
    }
   ],
   "source": [
    "honorificdate = pd.crosstab(alldata['honorific'],alldata['Survived']).apply(lambda x: x/x.sum() * 100, axis=1)\n",
    "honorificdate.plot.bar(stacked=True)\n",
    "honorificdate = pd.crosstab(alldata['honorific'],alldata.Survived.count())\n",
    "honorificdate.plot.bar(stacked=True)"
   ]
  },
  {
   "cell_type": "code",
   "execution_count": 167,
   "metadata": {},
   "outputs": [],
   "source": [
    "alldata['honorific'] = alldata['honorific'].replace({'Mr': 1, 'DonI': 1,'Capt':1,'Rev':1,'Jonkheer':1,'Don':1})\n",
    "alldata['honorific'] = alldata['honorific'].replace({'Miss': 2, 'Mrs': 2,'Mlle':2,'Mme':2, 'Ms': 2,'Sir':2,'he Countess':2,'Lady':2})\n",
    "alldata['honorific'] = alldata['honorific'].replace({'Col': 3,'Dr': 3,'Major':3,'Master':3,'Dona':3,'the Countess ':3})"
   ]
  },
  {
   "cell_type": "markdown",
   "metadata": {},
   "source": [
    "- 1の死亡者が85%、2が30%の幅"
   ]
  },
  {
   "cell_type": "code",
   "execution_count": 168,
   "metadata": {},
   "outputs": [
    {
     "data": {
      "text/plain": [
       "<matplotlib.axes._subplots.AxesSubplot at 0x1a1e32dd50>"
      ]
     },
     "execution_count": 168,
     "metadata": {},
     "output_type": "execute_result"
    },
    {
     "data": {
      "image/png": "[encoded data removed]",
      "text/plain": [
       "<Figure size 432x288 with 1 Axes>"
      ]
     },
     "metadata": {
      "needs_background": "light"
     },
     "output_type": "display_data"
    }
   ],
   "source": [
    "honorificdate = pd.crosstab(alldata['honorific'],alldata['Survived']).apply(lambda x: x/x.sum() * 100, axis=1)\n",
    "honorificdate.plot.bar(stacked=True)"
   ]
  },
  {
   "cell_type": "code",
   "execution_count": 169,
   "metadata": {},
   "outputs": [
    {
     "data": {
      "text/plain": [
       "1               768\n",
       "2               464\n",
       "3                76\n",
       "the Countess      1\n",
       "Name: honorific, dtype: int64"
      ]
     },
     "execution_count": 169,
     "metadata": {},
     "output_type": "execute_result"
    }
   ],
   "source": [
    "alldata['honorific'].value_counts()"
   ]
  },
  {
   "cell_type": "markdown",
   "metadata": {},
   "source": [
    "- 度数も3が怪しいが、50はあるので　説明変数として採用\n",
    "\n",
    "|採用項目|値|\n",
    "|-|-|\n",
    "|Pclass|1,2,3|\n",
    "|Name_length|1,2,3|\n",
    "|honorific|1,2,3|"
   ]
  },
  {
   "cell_type": "code",
   "execution_count": 170,
   "metadata": {},
   "outputs": [
    {
     "data": {
      "text/plain": [
       "<matplotlib.axes._subplots.AxesSubplot at 0x1a1e130e90>"
      ]
     },
     "execution_count": 170,
     "metadata": {},
     "output_type": "execute_result"
    },
    {
     "data": {
      "image/png": "[encoded data removed]",
      "text/plain": [
       "<Figure size 432x288 with 1 Axes>"
      ]
     },
     "metadata": {
      "needs_background": "light"
     },
     "output_type": "display_data"
    }
   ],
   "source": [
    "honorificdate = pd.crosstab(alldata['honorific'],alldata.Survived.count())\n",
    "honorificdate.plot.bar(stacked=True)"
   ]
  },
  {
   "cell_type": "markdown",
   "metadata": {},
   "source": [
    "## ■Sexと生存率を確認\n",
    "\n",
    "- 性別で確認をする\n",
    "- 男性を1、女性を2にする\n",
    "- 男性と女性で50%以上の幅"
   ]
  },
  {
   "cell_type": "code",
   "execution_count": 171,
   "metadata": {},
   "outputs": [
    {
     "data": {
      "text/plain": [
       "<matplotlib.axes._subplots.AxesSubplot at 0x1a1db18e10>"
      ]
     },
     "execution_count": 171,
     "metadata": {},
     "output_type": "execute_result"
    },
    {
     "data": {
      "image/png": "[encoded data removed]",
      "text/plain": [
       "<Figure size 432x288 with 1 Axes>"
      ]
     },
     "metadata": {
      "needs_background": "light"
     },
     "output_type": "display_data"
    }
   ],
   "source": [
    "alldata.loc[(alldata[\"Sex\"] == \"male\"), [\"Sex\"]]=1\n",
    "alldata.loc[(alldata[\"Sex\"] == \"female\"),[\"Sex\"]]=2\n",
    "\n",
    "sexdata = pd.crosstab(alldata['Sex'],alldata['Survived']).apply(lambda x: x/x.sum() * 100, axis=1)\n",
    "sexdata.plot.bar(stacked=True)"
   ]
  },
  {
   "cell_type": "markdown",
   "metadata": {},
   "source": [
    "-　度数も問題なしなので、説明変数として採用\n",
    "\n",
    "|採用項目|値|\n",
    "|-|-|\n",
    "|Pclass|1,2,3|\n",
    "|Name_length|1,2,3|\n",
    "|honorific|1,2,3|\n",
    "|Sex|1,2|"
   ]
  },
  {
   "cell_type": "code",
   "execution_count": 172,
   "metadata": {},
   "outputs": [
    {
     "data": {
      "text/plain": [
       "<matplotlib.axes._subplots.AxesSubplot at 0x1a1d6d3210>"
      ]
     },
     "execution_count": 172,
     "metadata": {},
     "output_type": "execute_result"
    },
    {
     "data": {
      "image/png": "[encoded data removed]",
      "text/plain": [
       "<Figure size 432x288 with 1 Axes>"
      ]
     },
     "metadata": {
      "needs_background": "light"
     },
     "output_type": "display_data"
    }
   ],
   "source": [
    "sexdata = pd.crosstab(alldata['Sex'],alldata.Survived.count())\n",
    "sexdata.plot.bar(stacked=True)"
   ]
  },
  {
   "cell_type": "markdown",
   "metadata": {},
   "source": [
    "\n",
    "## ■年齢の記載有り無しで生存率の確認\n",
    "\n",
    "- 年齢情報の有無により、何か特徴があるかもしれないので確認をする\n",
    "- Age_check列を作成して、年齢の記載がある人を1、年齢の記載がない人を2とする\n",
    "- 年齢の有無による生存率の幅は少ないため、説明変数としては不採用\n",
    "\n",
    "\n",
    "|採用項目|値|\n",
    "|-|-|\n",
    "|Pclass|1,2,3|\n",
    "|Name_length|1,2,3,4|\n",
    "|honorific|1,2,3|\n",
    "|Sex|1,2|\n",
    "\n",
    "|不採用項目|\n",
    "|-|\n",
    "|Age_check|"
   ]
  },
  {
   "cell_type": "code",
   "execution_count": 173,
   "metadata": {},
   "outputs": [],
   "source": [
    "alldata[\"Age_check\"] = alldata['Age'] \n",
    "alldata.Age_check.fillna(\"Blank\",inplace=True)\n",
    "alldata.loc[(alldata[\"Age_check\"] != \"Blank\"),[\"Age_check\"]]=2\n",
    "alldata.loc[(alldata[\"Age_check\"] != 2),[\"Age_check\"]]=1"
   ]
  },
  {
   "cell_type": "code",
   "execution_count": 174,
   "metadata": {},
   "outputs": [
    {
     "data": {
      "text/plain": [
       "<matplotlib.axes._subplots.AxesSubplot at 0x1021e01d0>"
      ]
     },
     "execution_count": 174,
     "metadata": {},
     "output_type": "execute_result"
    },
    {
     "data": {
      "image/png": "[encoded data removed]",
      "text/plain": [
       "<Figure size 432x288 with 1 Axes>"
      ]
     },
     "metadata": {
      "needs_background": "light"
     },
     "output_type": "display_data"
    }
   ],
   "source": [
    "age_checkdate = pd.crosstab(alldata['Age_check'],alldata['Survived']).apply(lambda x: x/x.sum() * 100, axis=1)\n",
    "age_checkdate.plot.bar(stacked=True)"
   ]
  },
  {
   "cell_type": "markdown",
   "metadata": {},
   "source": [
    "\n",
    "## ■年齢での生存率の確認\n",
    "\n",
    "- 年齢によって生存率が違うかもしれないので確認をする\n",
    "- 年齢の度数をヒストグラムで確認\n",
    "- 17歳以下を1に、15歳以上32歳以下を2に、33歳以上47歳以下を3に、47歳以上を4とする\n",
    "- 幅が少ないので特徴としては説明変数としては不採用\n",
    "\n",
    "|採用項目|値|\n",
    "|-|-|\n",
    "|Pclass|1,2,3|\n",
    "|Name_length|1,2,3,4|\n",
    "|honorific|1,2,3|\n",
    "|Sex|1,2|\n",
    "\n",
    "|不採用項目|\n",
    "|-|\n",
    "|Age_check|\n",
    "|Age|"
   ]
  },
  {
   "cell_type": "code",
   "execution_count": 175,
   "metadata": {},
   "outputs": [
    {
     "name": "stderr",
     "output_type": "stream",
     "text": [
      "/Users/tatsuhiro/opt/anaconda3/lib/python3.7/site-packages/numpy/lib/histograms.py:839: RuntimeWarning: invalid value encountered in greater_equal\n",
      "  keep = (tmp_a >= first_edge)\n",
      "/Users/tatsuhiro/opt/anaconda3/lib/python3.7/site-packages/numpy/lib/histograms.py:840: RuntimeWarning: invalid value encountered in less_equal\n",
      "  keep &= (tmp_a <= last_edge)\n"
     ]
    },
    {
     "data": {
      "text/plain": [
       "(array([134., 524., 269., 106.,  13.]),\n",
       " array([ 0.17 , 16.136, 32.102, 48.068, 64.034, 80.   ]),\n",
       " <a list of 5 Patch objects>)"
      ]
     },
     "execution_count": 175,
     "metadata": {},
     "output_type": "execute_result"
    },
    {
     "data": {
      "image/png": "[encoded data removed]",
      "text/plain": [
       "<Figure size 432x288 with 1 Axes>"
      ]
     },
     "metadata": {
      "needs_background": "light"
     },
     "output_type": "display_data"
    }
   ],
   "source": [
    "plt.hist(alldata['Age'],bins=5)"
   ]
  },
  {
   "cell_type": "code",
   "execution_count": 176,
   "metadata": {
    "scrolled": true
   },
   "outputs": [
    {
     "data": {
      "text/plain": [
       "<matplotlib.axes._subplots.AxesSubplot at 0x1a1ad60bd0>"
      ]
     },
     "execution_count": 176,
     "metadata": {},
     "output_type": "execute_result"
    },
    {
     "data": {
      "image/png": "[encoded data removed]",
      "text/plain": [
       "<Figure size 432x288 with 1 Axes>"
      ]
     },
     "metadata": {
      "needs_background": "light"
     },
     "output_type": "display_data"
    },
    {
     "data": {
      "image/png": "[encoded data removed]",
      "text/plain": [
       "<Figure size 432x288 with 1 Axes>"
      ]
     },
     "metadata": {
      "needs_background": "light"
     },
     "output_type": "display_data"
    }
   ],
   "source": [
    "alldata.loc[(alldata[\"Age\"] < 17), [\"Age\"]]=1\n",
    "alldata.loc[(alldata[\"Age\"] >= 15) & (alldata[\"Age\"] <= 32), [\"Age\"]]=2\n",
    "alldata.loc[(alldata[\"Age\"] > 32) & (alldata[\"Age\"] <=47), [\"Age\"]]=3\n",
    "alldata.loc[(alldata[\"Age\"] > 47), [\"Age\"]]=4\n",
    "agedata = pd.crosstab(alldata['Age'],alldata['Survived']).apply(lambda x: x/x.sum() * 100, axis=1)\n",
    "agedata.plot.bar(stacked=True)\n",
    "agedata = pd.crosstab(alldata['Age'],alldata.Survived.count())\n",
    "agedata.plot.bar(stacked=True)"
   ]
  },
  {
   "cell_type": "markdown",
   "metadata": {},
   "source": [
    "## ■SibSpで生存率の確認\n",
    "- sibSpによって生存率があるか確認をする\n",
    "- SibSp1とSibSp5は50%の幅はある"
   ]
  },
  {
   "cell_type": "code",
   "execution_count": 177,
   "metadata": {
    "scrolled": true
   },
   "outputs": [
    {
     "data": {
      "text/plain": [
       "<matplotlib.axes._subplots.AxesSubplot at 0x1a1d1821d0>"
      ]
     },
     "execution_count": 177,
     "metadata": {},
     "output_type": "execute_result"
    },
    {
     "data": {
      "image/png": "[encoded data removed]",
      "text/plain": [
       "<Figure size 432x288 with 1 Axes>"
      ]
     },
     "metadata": {
      "needs_background": "light"
     },
     "output_type": "display_data"
    }
   ],
   "source": [
    "sibspdata = pd.crosstab(alldata['SibSp'],alldata['Survived']).apply(lambda x: x/x.sum() * 100, axis=1)\n",
    "sibspdata.plot.bar(stacked=True)"
   ]
  },
  {
   "cell_type": "markdown",
   "metadata": {},
   "source": [
    "\n",
    "-度数は5の度数が少ない、度数が多い0と1は幅が少ないため説明変数としては不採用\n",
    "\n",
    "|採用項目|値|\n",
    "|-|-|\n",
    "|Pclass|1,2,3|\n",
    "|Name_length|1,2,3,4|\n",
    "|honorific|1,2,3|\n",
    "|Sex|1,2|\n",
    "\n",
    "|不採用項目|\n",
    "|-|\n",
    "|Age_check|\n",
    "|Age|\n",
    "|SibSp|\n"
   ]
  },
  {
   "cell_type": "code",
   "execution_count": 178,
   "metadata": {},
   "outputs": [
    {
     "data": {
      "text/plain": [
       "<matplotlib.axes._subplots.AxesSubplot at 0x1a1d007690>"
      ]
     },
     "execution_count": 178,
     "metadata": {},
     "output_type": "execute_result"
    },
    {
     "data": {
      "image/png": "[encoded data removed]",
      "text/plain": [
       "<Figure size 432x288 with 1 Axes>"
      ]
     },
     "metadata": {
      "needs_background": "light"
     },
     "output_type": "display_data"
    }
   ],
   "source": [
    "sibspdata = pd.crosstab(alldata['SibSp'],alldata.Survived.count())\n",
    "sibspdata.plot.bar(stacked=True)"
   ]
  },
  {
   "cell_type": "markdown",
   "metadata": {},
   "source": [
    "## ■Parchで生存率の確認\n",
    "\n",
    "- Parchに違いによって、特徴があるかもしれないので確認をする\n",
    "- 30%以上の幅の項目はある"
   ]
  },
  {
   "cell_type": "code",
   "execution_count": 179,
   "metadata": {},
   "outputs": [
    {
     "data": {
      "text/plain": [
       "<matplotlib.axes._subplots.AxesSubplot at 0x1a1aa15f10>"
      ]
     },
     "execution_count": 179,
     "metadata": {},
     "output_type": "execute_result"
    },
    {
     "data": {
      "image/png": "[encoded data removed]",
      "text/plain": [
       "<Figure size 432x288 with 1 Axes>"
      ]
     },
     "metadata": {
      "needs_background": "light"
     },
     "output_type": "display_data"
    }
   ],
   "source": [
    "parchdata = pd.crosstab(alldata['Parch'],alldata['Survived']).apply(lambda x: x/x.sum() * 100, axis=1)\n",
    "parchdata.plot.bar(stacked=True)"
   ]
  },
  {
   "cell_type": "markdown",
   "metadata": {},
   "source": [
    "- 度数が0、1、2以外は低いので説明変数としては不採用\n",
    "\n",
    "|採用項目|値|\n",
    "|-|-|\n",
    "|Pclass|1,2,3|\n",
    "|Name_length|1,2,3,4|\n",
    "|honorific|1,2,3|\n",
    "|Sex|1,2|\n",
    "\n",
    "|不採用項目|\n",
    "|-|\n",
    "|Age_check|\n",
    "|Age|\n",
    "|SibSp|"
   ]
  },
  {
   "cell_type": "code",
   "execution_count": 180,
   "metadata": {},
   "outputs": [
    {
     "data": {
      "text/plain": [
       "<matplotlib.axes._subplots.AxesSubplot at 0x1a1e502750>"
      ]
     },
     "execution_count": 180,
     "metadata": {},
     "output_type": "execute_result"
    },
    {
     "data": {
      "image/png": "[encoded data removed]",
      "text/plain": [
       "<Figure size 432x288 with 1 Axes>"
      ]
     },
     "metadata": {
      "needs_background": "light"
     },
     "output_type": "display_data"
    }
   ],
   "source": [
    "parchdata = pd.crosstab(alldata['Parch'],alldata.Survived.count())\n",
    "parchdata.plot.bar(stacked=True)"
   ]
  },
  {
   "cell_type": "markdown",
   "metadata": {},
   "source": [
    "## ■Familyで生存率を確認する\n",
    "\n",
    "- 家族の人数によって、特徴が現れるかもしれないので確認をしてみる\n",
    "- SibspとParchの数字を足してFamily sizeで列を作成する\n",
    "- 3と10で十分な幅はある"
   ]
  },
  {
   "cell_type": "code",
   "execution_count": 181,
   "metadata": {},
   "outputs": [
    {
     "data": {
      "text/plain": [
       "<matplotlib.axes._subplots.AxesSubplot at 0x1a1da40890>"
      ]
     },
     "execution_count": 181,
     "metadata": {},
     "output_type": "execute_result"
    },
    {
     "data": {
      "image/png": "[encoded data removed]",
      "text/plain": [
       "<Figure size 432x288 with 1 Axes>"
      ]
     },
     "metadata": {
      "needs_background": "light"
     },
     "output_type": "display_data"
    }
   ],
   "source": [
    "alldata[\"Family\"]= alldata['SibSp']  + alldata['Parch']\n",
    "familydata = pd.crosstab(alldata['Family'],alldata['Survived']).apply(lambda x: x/x.sum() * 100, axis=1)\n",
    "familydata.plot.bar(stacked=True)"
   ]
  },
  {
   "cell_type": "markdown",
   "metadata": {},
   "source": [
    "- 2と1が近いので統一する\n",
    "- 3も度数が少ないため、1に統一する\n",
    "- 3以降は度数が少ないため全て0にする\n",
    "\n"
   ]
  },
  {
   "cell_type": "code",
   "execution_count": 182,
   "metadata": {},
   "outputs": [
    {
     "data": {
      "text/plain": [
       "<matplotlib.axes._subplots.AxesSubplot at 0x1a1a9a4c10>"
      ]
     },
     "execution_count": 182,
     "metadata": {},
     "output_type": "execute_result"
    },
    {
     "data": {
      "image/png": "[encoded data removed]",
      "text/plain": [
       "<Figure size 432x288 with 1 Axes>"
      ]
     },
     "metadata": {
      "needs_background": "light"
     },
     "output_type": "display_data"
    }
   ],
   "source": [
    "familydata = pd.crosstab(alldata['Family'],alldata.Survived.count())\n",
    "familydata.plot.bar(stacked=True)"
   ]
  },
  {
   "cell_type": "code",
   "execution_count": 183,
   "metadata": {},
   "outputs": [],
   "source": [
    "alldata.loc[(alldata['Family']==2),['Family']]=1\n",
    "alldata.loc[(alldata['Family']==3),['Family']]=1\n",
    "alldata.loc[(alldata['Family'] != 1),['Family']]=0"
   ]
  },
  {
   "cell_type": "markdown",
   "metadata": {},
   "source": [
    "- 0と1で再度確認をする、説明変30% 以上なので、説明変数として採用\n",
    "\n",
    "|採用項目|\n",
    "|-|\n",
    "|Pclass1,2,3|\n",
    "|Name_length1,2,3,4|\n",
    "|honorific1,2,3|\n",
    "|Sex1,2|\n",
    "|Family1,2|\n",
    "\n",
    "|不採用項目|\n",
    "|-|\n",
    "|Age_check|\n",
    "|Age|\n",
    "|SibSp|\n",
    "|Parch|"
   ]
  },
  {
   "cell_type": "code",
   "execution_count": 184,
   "metadata": {},
   "outputs": [
    {
     "data": {
      "text/plain": [
       "<matplotlib.axes._subplots.AxesSubplot at 0x1a1ff1fdd0>"
      ]
     },
     "execution_count": 184,
     "metadata": {},
     "output_type": "execute_result"
    },
    {
     "data": {
      "image/png": "[encoded data removed]",
      "text/plain": [
       "<Figure size 432x288 with 1 Axes>"
      ]
     },
     "metadata": {
      "needs_background": "light"
     },
     "output_type": "display_data"
    },
    {
     "data": {
      "image/png": "[encoded data removed]",
      "text/plain": [
       "<Figure size 432x288 with 1 Axes>"
      ]
     },
     "metadata": {
      "needs_background": "light"
     },
     "output_type": "display_data"
    }
   ],
   "source": [
    "pclassdate = pd.crosstab(alldata['Family'],alldata['Survived']).apply(lambda x:x/x.sum()*100,axis=1)\n",
    "pclassdate.plot.bar(stacked=True)\n",
    "pclassdate = pd.crosstab(alldata['Family'],alldata.Survived.count())\n",
    "pclassdate.plot.bar(stacked=True)"
   ]
  },
  {
   "cell_type": "markdown",
   "metadata": {},
   "source": [
    "## チケットの種類で生存率を確認する\n",
    "\n",
    "- チケットの種類によって、特徴があるかもしれないので確認をしてみる\n",
    "- Ticket列の説明変数を頭文字１文字にする"
   ]
  },
  {
   "cell_type": "code",
   "execution_count": 185,
   "metadata": {},
   "outputs": [],
   "source": [
    "alldata[\"Ticket\"] = alldata[\"Ticket\"].map(lambda x:str(x)[0])"
   ]
  },
  {
   "cell_type": "code",
   "execution_count": 186,
   "metadata": {},
   "outputs": [
    {
     "data": {
      "text/plain": [
       "<matplotlib.axes._subplots.AxesSubplot at 0x1a1ff21f10>"
      ]
     },
     "execution_count": 186,
     "metadata": {},
     "output_type": "execute_result"
    },
    {
     "data": {
      "image/png": "[encoded data removed]",
      "text/plain": [
       "<Figure size 432x288 with 1 Axes>"
      ]
     },
     "metadata": {
      "needs_background": "light"
     },
     "output_type": "display_data"
    }
   ],
   "source": [
    "ticketdata = pd.crosstab(alldata['Ticket'],alldata['Survived']).apply(lambda x: x/x.sum() * 100, axis=1)\n",
    "ticketdata.plot.bar(stacked=True)"
   ]
  },
  {
   "cell_type": "markdown",
   "metadata": {},
   "source": [
    "- 特徴が多く、度数が少ない説明変数が多いので近い値を統一していく\n",
    "- 40%付近のFとPを1に統一する\n",
    "- 60%付近のCとLとSを2で統一する\n",
    "- その他70%以上を3に統一する\n"
   ]
  },
  {
   "cell_type": "code",
   "execution_count": 187,
   "metadata": {},
   "outputs": [
    {
     "data": {
      "image/png": "[encoded data removed]",
      "text/plain": [
       "<Figure size 432x288 with 1 Axes>"
      ]
     },
     "metadata": {
      "needs_background": "light"
     },
     "output_type": "display_data"
    }
   ],
   "source": [
    "ticketdata = pd.crosstab(alldata['Ticket'],alldata.Survived.count())\n",
    "ticketdata.plot.bar(stacked=True)\n",
    "alldata['Ticket'].replace({'F': 1, 'P': 1})\n",
    "alldata['Ticket'].replace({'C': 2, 'L':2,'S': 2})\n",
    "alldata.loc[(alldata['Ticket'] != \"1\") & (alldata['Ticket'] != \"2\"),['Ticket']]= \"3\""
   ]
  },
  {
   "cell_type": "markdown",
   "metadata": {},
   "source": [
    "- 1と3の幅を確認30%はある"
   ]
  },
  {
   "cell_type": "code",
   "execution_count": 188,
   "metadata": {},
   "outputs": [
    {
     "data": {
      "text/plain": [
       "<matplotlib.axes._subplots.AxesSubplot at 0x1a2025a110>"
      ]
     },
     "execution_count": 188,
     "metadata": {},
     "output_type": "execute_result"
    },
    {
     "data": {
      "image/png": "[encoded data removed]",
      "text/plain": [
       "<Figure size 432x288 with 1 Axes>"
      ]
     },
     "metadata": {
      "needs_background": "light"
     },
     "output_type": "display_data"
    }
   ],
   "source": [
    "ticketdata = pd.crosstab(alldata['Ticket'],alldata['Survived']).apply(lambda x: x/x.sum() * 100, axis=1)\n",
    "ticketdata.plot.bar(stacked=True)"
   ]
  },
  {
   "cell_type": "markdown",
   "metadata": {},
   "source": [
    "- 統一した後は度数が50以上どれもあるので説明変数として採用\n",
    "\n",
    "|採用項目|値|\n",
    "|-|-|\n",
    "|Pclass|1,2,3|\n",
    "|Name_length|1,2,3,4|\n",
    "|honorific|1,2,3|\n",
    "|Sex|1,2|\n",
    "|honorific|1,2,3|\n",
    "|Family|1,2|\n",
    "|Ticket|1,2,3|\n",
    "\n",
    "\n",
    "|不採用項目|\n",
    "|-|\n",
    "|Age_check|\n",
    "|Age|\n",
    "|SibSp|\n",
    "|Parch|\n"
   ]
  },
  {
   "cell_type": "code",
   "execution_count": 189,
   "metadata": {},
   "outputs": [
    {
     "data": {
      "text/plain": [
       "<matplotlib.axes._subplots.AxesSubplot at 0x1a1dbc5cd0>"
      ]
     },
     "execution_count": 189,
     "metadata": {},
     "output_type": "execute_result"
    },
    {
     "data": {
      "image/png": "[encoded data removed]",
      "text/plain": [
       "<Figure size 432x288 with 1 Axes>"
      ]
     },
     "metadata": {
      "needs_background": "light"
     },
     "output_type": "display_data"
    }
   ],
   "source": [
    "ticketdata = pd.crosstab(alldata['Ticket'],alldata.Survived.count())\n",
    "ticketdata.plot.bar(stacked=True)"
   ]
  },
  {
   "cell_type": "markdown",
   "metadata": {},
   "source": [
    "## ■Fareで生存率確認\n",
    "\n",
    "- Fareによる特徴を確認\n",
    "- ヒストグラムで度数分布を確認する\n",
    "- 10以下を1、10より高い20以下を2\n",
    "- 20より高い30以下を3、30より高い40以下を4、40より高いを5とする\n",
    "- 空白を最頻値を入れる"
   ]
  },
  {
   "cell_type": "markdown",
   "metadata": {},
   "source": [
    "\n"
   ]
  },
  {
   "cell_type": "code",
   "execution_count": 190,
   "metadata": {},
   "outputs": [
    {
     "data": {
      "text/plain": [
       "(array([491., 261., 206.,  86.,  22.,  56.,  30.,  39.,  22.,  11.]),\n",
       " array([  0.,  10.,  20.,  30.,  40.,  50.,  60.,  70.,  80.,  90., 100.]),\n",
       " <a list of 10 Patch objects>)"
      ]
     },
     "execution_count": 190,
     "metadata": {},
     "output_type": "execute_result"
    },
    {
     "data": {
      "image/png": "[encoded data removed]",
      "text/plain": [
       "<Figure size 432x288 with 1 Axes>"
      ]
     },
     "metadata": {
      "needs_background": "light"
     },
     "output_type": "display_data"
    }
   ],
   "source": [
    "plt.hist(alldata['Fare'],bins=10, range=(0, 100))"
   ]
  },
  {
   "cell_type": "code",
   "execution_count": 191,
   "metadata": {},
   "outputs": [],
   "source": [
    "alldata.Fare.fillna(alldata.Fare.mode()[0], inplace=True)\n",
    "alldata.loc[(alldata['Fare'] <=10) ,['Fare']]= 1\n",
    "alldata.loc[(alldata['Fare'] > 10) & (alldata['Fare'] <= 20),['Fare']]= 2\n",
    "alldata.loc[(alldata['Fare'] > 20) & (alldata['Fare'] <= 30),['Fare']]= 3\n",
    "alldata.loc[(alldata['Fare'] > 30) &(alldata['Fare'] <= 40),['Fare']]= 4\n",
    "alldata.loc[(alldata['Fare'] > 40),['Fare']]= 5"
   ]
  },
  {
   "cell_type": "markdown",
   "metadata": {},
   "source": [
    "- ２と3が近いので統一する\n",
    "- 4と2も近いので統一する"
   ]
  },
  {
   "cell_type": "code",
   "execution_count": 192,
   "metadata": {},
   "outputs": [
    {
     "data": {
      "image/png": "[encoded data removed]",
      "text/plain": [
       "<Figure size 432x288 with 1 Axes>"
      ]
     },
     "metadata": {
      "needs_background": "light"
     },
     "output_type": "display_data"
    }
   ],
   "source": [
    "faredata = pd.crosstab(alldata['Fare'],alldata['Survived']).apply(lambda x: x/x.sum() * 100, axis=1)\n",
    "faredata.plot.bar(stacked=True)\n",
    "alldata.loc[(alldata['Fare'] == 3) ,['Fare']]= 2\n",
    "alldata.loc[(alldata['Fare'] == 4) ,['Fare']]= 2"
   ]
  },
  {
   "cell_type": "markdown",
   "metadata": {},
   "source": [
    "- 1と5で30%以上の幅を確認"
   ]
  },
  {
   "cell_type": "code",
   "execution_count": 193,
   "metadata": {},
   "outputs": [
    {
     "data": {
      "text/plain": [
       "<matplotlib.axes._subplots.AxesSubplot at 0x1a1f1a8c10>"
      ]
     },
     "execution_count": 193,
     "metadata": {},
     "output_type": "execute_result"
    },
    {
     "data": {
      "image/png": "[encoded data removed]",
      "text/plain": [
       "<Figure size 432x288 with 1 Axes>"
      ]
     },
     "metadata": {
      "needs_background": "light"
     },
     "output_type": "display_data"
    }
   ],
   "source": [
    "faredata = pd.crosstab(alldata['Fare'],alldata['Survived']).apply(lambda x: x/x.sum() * 100, axis=1)\n",
    "faredata.plot.bar(stacked=True)"
   ]
  },
  {
   "cell_type": "markdown",
   "metadata": {},
   "source": [
    "- 度数は問題ないので、説明変数として採用\n",
    "\n",
    "|採用項目|値|\n",
    "|-|-|\n",
    "|Pclass|1,2,3|\n",
    "|Name_length|1,2,3,4|\n",
    "|honorific|1,2,3|\n",
    "|Sex|1,2|\n",
    "|honorific|1,2,3|\n",
    "|Family|1,2|\n",
    "|Ticket|1,2,3|\n",
    "|Fare|1,2,5|\n",
    "\n",
    "|不採用項目|\n",
    "|-|\n",
    "|Age_check|\n",
    "|Age|\n",
    "|SibSp|\n",
    "|Parch|"
   ]
  },
  {
   "cell_type": "code",
   "execution_count": 194,
   "metadata": {},
   "outputs": [
    {
     "data": {
      "text/plain": [
       "<matplotlib.axes._subplots.AxesSubplot at 0x1a1f219950>"
      ]
     },
     "execution_count": 194,
     "metadata": {},
     "output_type": "execute_result"
    },
    {
     "data": {
      "image/png": "[encoded data removed]",
      "text/plain": [
       "<Figure size 432x288 with 1 Axes>"
      ]
     },
     "metadata": {
      "needs_background": "light"
     },
     "output_type": "display_data"
    }
   ],
   "source": [
    "faredata = pd.crosstab(alldata['Fare'],alldata.Survived.count())\n",
    "faredata.plot.bar(stacked=True)"
   ]
  },
  {
   "cell_type": "markdown",
   "metadata": {},
   "source": [
    "## ■Cabinでの生存率を確認\n",
    "\n",
    "- Cabinによる特徴を確認する\n",
    "- 空白があるので１にする\n",
    "- cabinの１文字目を取得する"
   ]
  },
  {
   "cell_type": "code",
   "execution_count": 195,
   "metadata": {
    "scrolled": true
   },
   "outputs": [
    {
     "data": {
      "text/plain": [
       "<matplotlib.axes._subplots.AxesSubplot at 0x1a1d7a7790>"
      ]
     },
     "execution_count": 195,
     "metadata": {},
     "output_type": "execute_result"
    },
    {
     "data": {
      "image/png": "[encoded data removed]",
      "text/plain": [
       "<Figure size 432x288 with 1 Axes>"
      ]
     },
     "metadata": {
      "needs_background": "light"
     },
     "output_type": "display_data"
    }
   ],
   "source": [
    "alldata.Cabin.fillna(1, inplace=True)\n",
    "alldata['Cabin'] = alldata['Cabin'].map(lambda x:str(x)[0])\n",
    "cabindata = pd.crosstab(alldata['Cabin'],alldata['Survived']).apply(lambda x: x/x.sum() * 100, axis=1)\n",
    "cabindata.plot.bar(stacked=True)"
   ]
  },
  {
   "cell_type": "markdown",
   "metadata": {},
   "source": [
    "- Tは度数が少ないので、1に合わして、BDEは統一して2、その他は3とする"
   ]
  },
  {
   "cell_type": "code",
   "execution_count": 196,
   "metadata": {},
   "outputs": [
    {
     "data": {
      "text/plain": [
       "<matplotlib.axes._subplots.AxesSubplot at 0x1a1f557890>"
      ]
     },
     "execution_count": 196,
     "metadata": {},
     "output_type": "execute_result"
    },
    {
     "data": {
      "image/png": "[encoded data removed]",
      "text/plain": [
       "<Figure size 432x288 with 1 Axes>"
      ]
     },
     "metadata": {
      "needs_background": "light"
     },
     "output_type": "display_data"
    }
   ],
   "source": [
    "cabindata = pd.crosstab(alldata['Cabin'],alldata.Survived.count())\n",
    "cabindata.plot.bar(stacked=True)"
   ]
  },
  {
   "cell_type": "code",
   "execution_count": 197,
   "metadata": {},
   "outputs": [
    {
     "data": {
      "text/plain": [
       "0      1\n",
       "1      3\n",
       "2      1\n",
       "3      3\n",
       "4      1\n",
       "      ..\n",
       "413    1\n",
       "414    3\n",
       "415    1\n",
       "416    1\n",
       "417    1\n",
       "Name: Cabin, Length: 1309, dtype: object"
      ]
     },
     "execution_count": 197,
     "metadata": {},
     "output_type": "execute_result"
    }
   ],
   "source": [
    "alldata['Cabin'].replace({'1': 1, 'T': 1})\n",
    "alldata['Cabin'].replace({'B': 2, 'D': 2,'E': 2})\n",
    "alldata['Cabin'].replace({'A': 3, 'C': 3,'F': 3,'G': 3})"
   ]
  },
  {
   "cell_type": "markdown",
   "metadata": {},
   "source": [
    "- 2と3で30%以上の幅を確認"
   ]
  },
  {
   "cell_type": "code",
   "execution_count": 198,
   "metadata": {},
   "outputs": [
    {
     "data": {
      "text/plain": [
       "<matplotlib.axes._subplots.AxesSubplot at 0x1a1f686c90>"
      ]
     },
     "execution_count": 198,
     "metadata": {},
     "output_type": "execute_result"
    },
    {
     "data": {
      "image/png": "[encoded data removed]",
      "text/plain": [
       "<Figure size 432x288 with 1 Axes>"
      ]
     },
     "metadata": {
      "needs_background": "light"
     },
     "output_type": "display_data"
    }
   ],
   "source": [
    "cabindata = pd.crosstab(alldata['Cabin'],alldata['Survived']).apply(lambda x: x/x.sum() * 100, axis=1)\n",
    "cabindata.plot.bar(stacked=True)"
   ]
  },
  {
   "cell_type": "markdown",
   "metadata": {},
   "source": [
    "- 度数に問題がないので説明変数として採用\n",
    "\n",
    "\n",
    "|採用項目|値|\n",
    "|-|-|\n",
    "|Pclass|1,2,3|\n",
    "|Name_length|1,2,3,4|\n",
    "|honorific|1,2,3|\n",
    "|Sex|1,2|\n",
    "|honorific|1,2,3|\n",
    "|Family|1,2|\n",
    "|Ticket|1,2,3|\n",
    "|Fare|1,2,5|\n",
    "|Cabin|1,2,3|\n",
    "\n",
    "|不採用項目|\n",
    "|-|\n",
    "|Age_check|\n",
    "|Age|\n",
    "|SibSp|\n",
    "|Parch|"
   ]
  },
  {
   "cell_type": "code",
   "execution_count": 199,
   "metadata": {},
   "outputs": [
    {
     "data": {
      "text/plain": [
       "<matplotlib.axes._subplots.AxesSubplot at 0x1a1f7b6d90>"
      ]
     },
     "execution_count": 199,
     "metadata": {},
     "output_type": "execute_result"
    },
    {
     "data": {
      "image/png": "[encoded data removed]",
      "text/plain": [
       "<Figure size 432x288 with 1 Axes>"
      ]
     },
     "metadata": {
      "needs_background": "light"
     },
     "output_type": "display_data"
    }
   ],
   "source": [
    "cabindata = pd.crosstab(alldata['Cabin'],alldata.Survived.count())\n",
    "cabindata.plot.bar(stacked=True)"
   ]
  },
  {
   "cell_type": "markdown",
   "metadata": {},
   "source": [
    "## Embarkedで生存率の確認\n",
    "- Embarkedによる特徴を確認する\n",
    "- 欠損値を最頻値Sで埋める\n",
    "- それぞれのembarkedの生存率を確認\n",
    "- 幅が30%以下なので、説明変数としては不採用\n",
    "\n",
    "|採用項目|値|\n",
    "|-|-|\n",
    "|Pclass|1,2,3|\n",
    "|Name_length|1,2,3,4|\n",
    "|honorific|1,2,3|\n",
    "|Sex|1,2|\n",
    "|honorific|1,2,3|\n",
    "|Family|1,2|\n",
    "|Ticket|1,2,3|\n",
    "|Fare|1,2,5|\n",
    "|Cabin|1,2,3|\n",
    "\n",
    "|不採用項目|\n",
    "|-|\n",
    "|Age_check|\n",
    "|Age|\n",
    "|SibSp|\n",
    "|Parch|\n",
    "|Embarked|"
   ]
  },
  {
   "cell_type": "code",
   "execution_count": 200,
   "metadata": {},
   "outputs": [],
   "source": [
    "alldata.Embarked.fillna(\"S\", inplace=True)"
   ]
  },
  {
   "cell_type": "code",
   "execution_count": 201,
   "metadata": {},
   "outputs": [
    {
     "data": {
      "text/plain": [
       "<matplotlib.axes._subplots.AxesSubplot at 0x1a1f7b6cd0>"
      ]
     },
     "execution_count": 201,
     "metadata": {},
     "output_type": "execute_result"
    },
    {
     "data": {
      "image/png": "[encoded data removed]",
      "text/plain": [
       "<Figure size 432x288 with 1 Axes>"
      ]
     },
     "metadata": {
      "needs_background": "light"
     },
     "output_type": "display_data"
    }
   ],
   "source": [
    "embarkeddata = pd.crosstab(alldata['Embarked'],alldata['Survived']).apply(lambda x: x/x.sum() * 100, axis=1)\n",
    "embarkeddata.plot.bar(stacked=True)"
   ]
  },
  {
   "cell_type": "markdown",
   "metadata": {},
   "source": [
    "## ■データの整理\n",
    "\n",
    "- 不採用変数列を削除\n",
    "- 数値として扱われないためget_dummiesで１つの特徴ごとに列を作成する\n",
    "\n",
    "\n",
    "|採用項目|値|\n",
    "|-|-|\n",
    "|Pclass|1,2,3|\n",
    "|Name_length|1,2,3,4|\n",
    "|honorific|1,2,3|\n",
    "|Sex|1,2|\n",
    "|honorific|1,2,3|\n",
    "|Family|1,2|\n",
    "|Ticket|1,2,3|\n",
    "|Fare|1,2,4|\n",
    "|Cabin|1,2,3|\n",
    "\n",
    "|不採用項目|\n",
    "|-|\n",
    "|Age_check|\n",
    "|Age|\n",
    "|SibSp|\n",
    "|Parch|\n",
    "|Embarked|"
   ]
  },
  {
   "cell_type": "code",
   "execution_count": 202,
   "metadata": {},
   "outputs": [],
   "source": [
    "delcols =[\"Age_check\",\"Age\",\"SibSp\",\"Parch\",\"Embarked\",\"Survived\"]\n",
    "alldata = alldata.drop(delcols, axis=1)\n",
    "columns = alldata.loc[:,'Pclass':'Family']\n",
    "alldata = pd.get_dummies(columns)"
   ]
  },
  {
   "cell_type": "markdown",
   "metadata": {},
   "source": [
    "## ■学習用データの作成\n",
    "\n",
    "- test dataとtrain dataに戻す\n",
    "- train dataから検証用データを作成"
   ]
  },
  {
   "cell_type": "code",
   "execution_count": 216,
   "metadata": {},
   "outputs": [],
   "source": [
    "train = alldata.query('train_or_test_train == 1')\n",
    "test =  alldata.query('train_or_test_test == 1')\n",
    "delcols =[\"train_or_test_test\",\"train_or_test_train\"]\n",
    "train = train.drop(delcols ,axis=1)\n",
    "test = test.drop(delcols ,axis=1)\n",
    "y_train = Survived\n",
    "x_train = train\n",
    "x_test = test"
   ]
  },
  {
   "cell_type": "code",
   "execution_count": 217,
   "metadata": {},
   "outputs": [],
   "source": [
    "x_train,x_valid,y_train,y_valid = train_test_split(x_train,y_train, test_size=0.3)"
   ]
  },
  {
   "cell_type": "markdown",
   "metadata": {},
   "source": [
    "## ■機械学習のモジュールをインポートする"
   ]
  },
  {
   "cell_type": "code",
   "execution_count": null,
   "metadata": {},
   "outputs": [],
   "source": []
  },
  {
   "cell_type": "markdown",
   "metadata": {},
   "source": [
    "## ■decisiontreeで機械学習を行う\n",
    "- グリッドサーチで適切なパラメータを出力\n",
    "- train dataで学習を行う\n",
    "- 検証用dataで精度を確認"
   ]
  },
  {
   "cell_type": "code",
   "execution_count": 218,
   "metadata": {},
   "outputs": [],
   "source": [
    "param_grid= {\"max_depth\": [2,3, 4,5,7],\n",
    "             \"splitter\": [\"best\", \"random\"],\n",
    "              \"min_samples_split\": [2, 3, 10],\n",
    "              \"min_samples_leaf\": [1, 3, 10],\n",
    "              \"criterion\": [\"gini\", \"entropy\"]}"
   ]
  },
  {
   "cell_type": "code",
   "execution_count": 232,
   "metadata": {},
   "outputs": [],
   "source": [
    "score = 'f1'\n",
    "decisiontree = GridSearchCV(\n",
    "DecisionTreeClassifier(),\n",
    "param_grid = param_grid,\n",
    "cv=10,\n",
    ")\n",
    "decisiontree.fit(x_train,y_train)\n",
    "y_pred1 = decisiontree.predict(x_valid)\n",
    "acc_decisiontree =round(decisiontree.score(x_valid,y_valid)*100,2)\n",
    "t = confusion_matrix(y_pred1, y_valid)"
   ]
  },
  {
   "cell_type": "code",
   "execution_count": 234,
   "metadata": {},
   "outputs": [
    {
     "data": {
      "text/plain": [
       "array([[145,  24],\n",
       "       [ 22,  77]])"
      ]
     },
     "execution_count": 234,
     "metadata": {},
     "output_type": "execute_result"
    }
   ],
   "source": [
    "t"
   ]
  },
  {
   "cell_type": "markdown",
   "metadata": {},
   "source": [
    "## ■random_forestで機械学習で計算を行う\n",
    "- グリッドサーチで適切なパラメータを出力\n",
    "- train dataで学習を行う\n",
    "- 検証用dataで精度を確認"
   ]
  },
  {
   "cell_type": "code",
   "execution_count": null,
   "metadata": {},
   "outputs": [],
   "source": []
  },
  {
   "cell_type": "code",
   "execution_count": 207,
   "metadata": {},
   "outputs": [],
   "source": [
    "# from sklearn.model_selection import GridSearchCV\n",
    "param_grid = {\"max_depth\": [2,3, 5],\n",
    "              \"n_estimators\":[50,100,200,300,400,500],\n",
    "              \"min_samples_split\": [2, 5, 10],\n",
    "              \"min_samples_leaf\": [1, 5, 10],\n",
    "              \"bootstrap\": [True, False],\n",
    "              \"criterion\": [\"gini\", \"entropy\"]}"
   ]
  },
  {
   "cell_type": "code",
   "execution_count": 208,
   "metadata": {},
   "outputs": [],
   "source": [
    "# from sklearn.metrics import accuracy_score\n",
    "# from sklearn.ensemble import RandomForestClassifier\n",
    "score = 'f1'\n",
    "random_forest = GridSearchCV(\n",
    "RandomForestClassifier(n_estimators=100),\n",
    "param_grid = param_grid,\n",
    "cv=3,\n",
    ")\n",
    "\n",
    "random_forest.fit(x_train, y_train)\n",
    "y_pred2 = random_forest.predict(x_test)\n",
    "random_forest.score(x_valid, y_valid)\n",
    "\n",
    "acc_random_forest = round(random_forest.score(x_valid, y_valid) * 100, 2)\n"
   ]
  },
  {
   "cell_type": "markdown",
   "metadata": {},
   "source": [
    "## ■support vector machineで機械学習を行う\n",
    "- グリッドサーチで適切なパラメータを出力\n",
    "- train dataで学習を行う\n",
    "- 検証用dataで精度を確認"
   ]
  },
  {
   "cell_type": "code",
   "execution_count": 209,
   "metadata": {},
   "outputs": [],
   "source": [
    "param_grid_linearscv = {'C':[1,10,20,100],\n",
    "                        'gamma': [1, 0.1, 0.01, 0.001, 0.0001],\n",
    "                      }"
   ]
  },
  {
   "cell_type": "code",
   "execution_count": 210,
   "metadata": {},
   "outputs": [],
   "source": [
    "# from sklearn.svm import SVC, LinearSVC\n",
    "score ='f1'\n",
    "linearscv =GridSearchCV(\n",
    "SVC(),\n",
    "param_grid = param_grid_linearscv,\n",
    "cv=5,\n",
    ")\n",
    "linearscv.fit(x_train,y_train)\n",
    "y_pred3 = linearscv.predict(x_test)\n",
    "aa_linearscv = round(linearscv.score(x_valid,y_valid)*100,2)\n"
   ]
  },
  {
   "cell_type": "markdown",
   "metadata": {},
   "source": [
    "## ■LogisticRegressionで機械学習を行う\n",
    "- グリッドサーチで適切なパラメータを出力\n",
    "- train dataで学習を行う\n",
    "- 検証用dataで精度を確認"
   ]
  },
  {
   "cell_type": "code",
   "execution_count": 211,
   "metadata": {},
   "outputs": [],
   "source": [
    "param_grid_linearscv = {'C': [1, 0.1, 0.01]}\n",
    "#                         'penalty':[\"l1\",\"l2\"],\n",
    "#                         'intercept_scaling':[1,10],\n",
    "#                         'max_iter':[50,100,150]"
   ]
  },
  {
   "cell_type": "code",
   "execution_count": 212,
   "metadata": {},
   "outputs": [
    {
     "data": {
      "image/png": "[encoded data removed]",
      "text/plain": [
       "<Figure size 432x288 with 1 Axes>"
      ]
     },
     "metadata": {
      "needs_background": "light"
     },
     "output_type": "display_data"
    }
   ],
   "source": [
    "height1 = [50, acc_random_forest, aa_linearscv,aa_logistic] \n",
    "left = np.arange(len(height1)) \n",
    "x= [acc_decisiontree,acc_random_forest,aa_linearscv,aa_logistic]\n",
    "labels = ['decisiontree', 'random_forest', 'support vector machine', 'LogisticRegression']\n",
    "height = 0.5\n",
    "plt.barh(left, x, color='b', height=height, align='center')\n",
    "plt.yticks(left + height/2, labels)\n",
    "plt.show()"
   ]
  },
  {
   "cell_type": "markdown",
   "metadata": {},
   "source": [
    "ypredのそれぞれの表を作成\n",
    "\n",
    "## ■提出用のfile作成\n",
    "\n",
    "- 一番精度が良かったy_predを入力\n",
    "- 提出用のcsv fileを作成する"
   ]
  },
  {
   "cell_type": "code",
   "execution_count": 213,
   "metadata": {},
   "outputs": [],
   "source": [
    "submission = pd.DataFrame({\n",
    "        \"PassengerId\": passengerID,\n",
    "        \"Survived\": y_pred3\n",
    "    })\n",
    "submission.to_csv('4.csv', index=False)"
   ]
  },
  {
   "cell_type": "markdown",
   "metadata": {},
   "source": [
    "## ■提出結果\n",
    "\n",
    "- 上位４％にランクイン\n",
    "<IMG src =\"score.png\">"
   ]
  },
  {
   "cell_type": "code",
   "execution_count": null,
   "metadata": {},
   "outputs": [],
   "source": []
  }
 ],
 "metadata": {
  "kernelspec": {
   "display_name": "Python 3",
   "language": "python",
   "name": "python3"
  },
  "language_info": {
   "codemirror_mode": {
    "name": "ipython",
    "version": 3
   },
   "file_extension": ".py",
   "mimetype": "text/x-python",
   "name": "python",
   "nbconvert_exporter": "python",
   "pygments_lexer": "ipython3",
   "version": "3.7.6"
  }
 },
 "nbformat": 4,
 "nbformat_minor": 4
}
