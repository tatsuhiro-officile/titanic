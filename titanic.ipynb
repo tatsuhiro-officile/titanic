{
 "cells": [
  {
   "cell_type": "markdown",
   "metadata": {},
   "source": [
    "# <span style=\"color: Blue; \">Kaggeleのtitanicの生存者予測</span>\n",
    "## 使用するData:https://www.kaggle.com/c/titanic\n",
    "- trainデータ（891行、12列）、tesｔデータ（418行、11列）\n",
    "- 生存1、生存ではない0のどちらかを機械学習で予測\n",
    "- 説明変数は生存率とクロス集計をして生存、生存ではないの幅が最大30%以上あれば採用\n",
    "- 度数が50以下は過学習になる可能性があるので、他の特徴と統一することにする\n",
    "- メインは特徴がない説明変数に強い決定木系を使うが、決定木以外のモデルも使用するため、予測にあまり影響がない説明変数は削除する"
   ]
  },
  {
   "cell_type": "markdown",
   "metadata": {},
   "source": [
    "## 使用外部ライブラリ\n",
    "\n",
    "- numpy==1.18.1\n",
    "- matplotlib==3.1.3\n",
    "- pandas==1.0.1\n",
    "- seaborn==0.10.0\n",
    "- scikit-learn==0.22.1"
   ]
  },
  {
   "cell_type": "markdown",
   "metadata": {},
   "source": [
    "## ■dataの読み込み\n",
    "- ファイル読み込みを行い、train データとtestデータを合わせる\n",
    "- 前処理のmoduleをimport\n",
    "- 提出データのために、testデータのpassengerIDを変数とする\n",
    "- 説明変数のクロス集計のためにtrainデータのSurvivedを用意する\n",
    "- trainデータとtestデータを再び分けれるように、train_or_test列を作成する"
   ]
  },
  {
   "cell_type": "code",
   "execution_count": 817,
   "metadata": {},
   "outputs": [],
   "source": [
    "import numpy as np\n",
    "import matplotlib.pyplot as plt\n",
    "%matplotlib inline\n",
    "import pandas as pd\n",
    "import seaborn as sns\n",
    "from sklearn.model_selection import train_test_split\n",
    "from sklearn.model_selection import GridSearchCV\n",
    "from sklearn.tree import DecisionTreeClassifier\n",
    "from sklearn.ensemble import RandomForestClassifier\n",
    "from sklearn.svm import SVC, LinearSVC\n",
    "from sklearn.linear_model import LogisticRegression\n",
    "from sklearn.metrics import accuracy_score,confusion_matrix\n",
    "\n",
    "train = pd.read_csv('data/train.csv')\n",
    "test = pd.read_csv('data/test.csv')\n",
    "passengerID = test['PassengerId']\n",
    "Survived = train['Survived']\n",
    "train['train_or_test']='train'\n",
    "test['train_or_test']='test'\n",
    "alldata = pd.concat([train,test], axis=0, sort=False)"
   ]
  },
  {
   "cell_type": "markdown",
   "metadata": {},
   "source": [
    "## ■Dataの全体確認\n",
    "- headで頭５件のデータを確認\n",
    "- infoでデータ数、データの種類を確認\n",
    "- describeで統計データを確認する"
   ]
  },
  {
   "cell_type": "code",
   "execution_count": 818,
   "metadata": {},
   "outputs": [
    {
     "data": {
      "text/html": [
       "<div>\n",
       "<style scoped>\n",
       "    .dataframe tbody tr th:only-of-type {\n",
       "        vertical-align: middle;\n",
       "    }\n",
       "\n",
       "    .dataframe tbody tr th {\n",
       "        vertical-align: top;\n",
       "    }\n",
       "\n",
       "    .dataframe thead th {\n",
       "        text-align: right;\n",
       "    }\n",
       "</style>\n",
       "<table border=\"1\" class=\"dataframe\">\n",
       "  <thead>\n",
       "    <tr style=\"text-align: right;\">\n",
       "      <th></th>\n",
       "      <th>PassengerId</th>\n",
       "      <th>Survived</th>\n",
       "      <th>Pclass</th>\n",
       "      <th>Name</th>\n",
       "      <th>Sex</th>\n",
       "      <th>Age</th>\n",
       "      <th>SibSp</th>\n",
       "      <th>Parch</th>\n",
       "      <th>Ticket</th>\n",
       "      <th>Fare</th>\n",
       "      <th>Cabin</th>\n",
       "      <th>Embarked</th>\n",
       "      <th>train_or_test</th>\n",
       "    </tr>\n",
       "  </thead>\n",
       "  <tbody>\n",
       "    <tr>\n",
       "      <th>0</th>\n",
       "      <td>1</td>\n",
       "      <td>0.0</td>\n",
       "      <td>3</td>\n",
       "      <td>Braund, Mr. Owen Harris</td>\n",
       "      <td>male</td>\n",
       "      <td>22.0</td>\n",
       "      <td>1</td>\n",
       "      <td>0</td>\n",
       "      <td>A/5 21171</td>\n",
       "      <td>7.2500</td>\n",
       "      <td>NaN</td>\n",
       "      <td>S</td>\n",
       "      <td>train</td>\n",
       "    </tr>\n",
       "    <tr>\n",
       "      <th>1</th>\n",
       "      <td>2</td>\n",
       "      <td>1.0</td>\n",
       "      <td>1</td>\n",
       "      <td>Cumings, Mrs. John Bradley (Florence Briggs Th...</td>\n",
       "      <td>female</td>\n",
       "      <td>38.0</td>\n",
       "      <td>1</td>\n",
       "      <td>0</td>\n",
       "      <td>PC 17599</td>\n",
       "      <td>71.2833</td>\n",
       "      <td>C85</td>\n",
       "      <td>C</td>\n",
       "      <td>train</td>\n",
       "    </tr>\n",
       "    <tr>\n",
       "      <th>2</th>\n",
       "      <td>3</td>\n",
       "      <td>1.0</td>\n",
       "      <td>3</td>\n",
       "      <td>Heikkinen, Miss. Laina</td>\n",
       "      <td>female</td>\n",
       "      <td>26.0</td>\n",
       "      <td>0</td>\n",
       "      <td>0</td>\n",
       "      <td>STON/O2. 3101282</td>\n",
       "      <td>7.9250</td>\n",
       "      <td>NaN</td>\n",
       "      <td>S</td>\n",
       "      <td>train</td>\n",
       "    </tr>\n",
       "    <tr>\n",
       "      <th>3</th>\n",
       "      <td>4</td>\n",
       "      <td>1.0</td>\n",
       "      <td>1</td>\n",
       "      <td>Futrelle, Mrs. Jacques Heath (Lily May Peel)</td>\n",
       "      <td>female</td>\n",
       "      <td>35.0</td>\n",
       "      <td>1</td>\n",
       "      <td>0</td>\n",
       "      <td>113803</td>\n",
       "      <td>53.1000</td>\n",
       "      <td>C123</td>\n",
       "      <td>S</td>\n",
       "      <td>train</td>\n",
       "    </tr>\n",
       "    <tr>\n",
       "      <th>4</th>\n",
       "      <td>5</td>\n",
       "      <td>0.0</td>\n",
       "      <td>3</td>\n",
       "      <td>Allen, Mr. William Henry</td>\n",
       "      <td>male</td>\n",
       "      <td>35.0</td>\n",
       "      <td>0</td>\n",
       "      <td>0</td>\n",
       "      <td>373450</td>\n",
       "      <td>8.0500</td>\n",
       "      <td>NaN</td>\n",
       "      <td>S</td>\n",
       "      <td>train</td>\n",
       "    </tr>\n",
       "  </tbody>\n",
       "</table>\n",
       "</div>"
      ],
      "text/plain": [
       "   PassengerId  Survived  Pclass  \\\n",
       "0            1       0.0       3   \n",
       "1            2       1.0       1   \n",
       "2            3       1.0       3   \n",
       "3            4       1.0       1   \n",
       "4            5       0.0       3   \n",
       "\n",
       "                                                Name     Sex   Age  SibSp  \\\n",
       "0                            Braund, Mr. Owen Harris    male  22.0      1   \n",
       "1  Cumings, Mrs. John Bradley (Florence Briggs Th...  female  38.0      1   \n",
       "2                             Heikkinen, Miss. Laina  female  26.0      0   \n",
       "3       Futrelle, Mrs. Jacques Heath (Lily May Peel)  female  35.0      1   \n",
       "4                           Allen, Mr. William Henry    male  35.0      0   \n",
       "\n",
       "   Parch            Ticket     Fare Cabin Embarked train_or_test  \n",
       "0      0         A/5 21171   7.2500   NaN        S         train  \n",
       "1      0          PC 17599  71.2833   C85        C         train  \n",
       "2      0  STON/O2. 3101282   7.9250   NaN        S         train  \n",
       "3      0            113803  53.1000  C123        S         train  \n",
       "4      0            373450   8.0500   NaN        S         train  "
      ]
     },
     "execution_count": 818,
     "metadata": {},
     "output_type": "execute_result"
    }
   ],
   "source": [
    "alldata.head()"
   ]
  },
  {
   "cell_type": "code",
   "execution_count": 819,
   "metadata": {},
   "outputs": [
    {
     "name": "stdout",
     "output_type": "stream",
     "text": [
      "<class 'pandas.core.frame.DataFrame'>\n",
      "Int64Index: 1309 entries, 0 to 417\n",
      "Data columns (total 13 columns):\n",
      " #   Column         Non-Null Count  Dtype  \n",
      "---  ------         --------------  -----  \n",
      " 0   PassengerId    1309 non-null   int64  \n",
      " 1   Survived       891 non-null    float64\n",
      " 2   Pclass         1309 non-null   int64  \n",
      " 3   Name           1309 non-null   object \n",
      " 4   Sex            1309 non-null   object \n",
      " 5   Age            1046 non-null   float64\n",
      " 6   SibSp          1309 non-null   int64  \n",
      " 7   Parch          1309 non-null   int64  \n",
      " 8   Ticket         1309 non-null   object \n",
      " 9   Fare           1308 non-null   float64\n",
      " 10  Cabin          295 non-null    object \n",
      " 11  Embarked       1307 non-null   object \n",
      " 12  train_or_test  1309 non-null   object \n",
      "dtypes: float64(3), int64(4), object(6)\n",
      "memory usage: 143.2+ KB\n"
     ]
    }
   ],
   "source": [
    "alldata.info()"
   ]
  },
  {
   "cell_type": "code",
   "execution_count": 820,
   "metadata": {},
   "outputs": [
    {
     "data": {
      "text/html": [
       "<div>\n",
       "<style scoped>\n",
       "    .dataframe tbody tr th:only-of-type {\n",
       "        vertical-align: middle;\n",
       "    }\n",
       "\n",
       "    .dataframe tbody tr th {\n",
       "        vertical-align: top;\n",
       "    }\n",
       "\n",
       "    .dataframe thead th {\n",
       "        text-align: right;\n",
       "    }\n",
       "</style>\n",
       "<table border=\"1\" class=\"dataframe\">\n",
       "  <thead>\n",
       "    <tr style=\"text-align: right;\">\n",
       "      <th></th>\n",
       "      <th>PassengerId</th>\n",
       "      <th>Survived</th>\n",
       "      <th>Pclass</th>\n",
       "      <th>Age</th>\n",
       "      <th>SibSp</th>\n",
       "      <th>Parch</th>\n",
       "      <th>Fare</th>\n",
       "    </tr>\n",
       "  </thead>\n",
       "  <tbody>\n",
       "    <tr>\n",
       "      <th>count</th>\n",
       "      <td>1309.000000</td>\n",
       "      <td>891.000000</td>\n",
       "      <td>1309.000000</td>\n",
       "      <td>1046.000000</td>\n",
       "      <td>1309.000000</td>\n",
       "      <td>1309.000000</td>\n",
       "      <td>1308.000000</td>\n",
       "    </tr>\n",
       "    <tr>\n",
       "      <th>mean</th>\n",
       "      <td>655.000000</td>\n",
       "      <td>0.383838</td>\n",
       "      <td>2.294882</td>\n",
       "      <td>29.881138</td>\n",
       "      <td>0.498854</td>\n",
       "      <td>0.385027</td>\n",
       "      <td>33.295479</td>\n",
       "    </tr>\n",
       "    <tr>\n",
       "      <th>std</th>\n",
       "      <td>378.020061</td>\n",
       "      <td>0.486592</td>\n",
       "      <td>0.837836</td>\n",
       "      <td>14.413493</td>\n",
       "      <td>1.041658</td>\n",
       "      <td>0.865560</td>\n",
       "      <td>51.758668</td>\n",
       "    </tr>\n",
       "    <tr>\n",
       "      <th>min</th>\n",
       "      <td>1.000000</td>\n",
       "      <td>0.000000</td>\n",
       "      <td>1.000000</td>\n",
       "      <td>0.170000</td>\n",
       "      <td>0.000000</td>\n",
       "      <td>0.000000</td>\n",
       "      <td>0.000000</td>\n",
       "    </tr>\n",
       "    <tr>\n",
       "      <th>25%</th>\n",
       "      <td>328.000000</td>\n",
       "      <td>0.000000</td>\n",
       "      <td>2.000000</td>\n",
       "      <td>21.000000</td>\n",
       "      <td>0.000000</td>\n",
       "      <td>0.000000</td>\n",
       "      <td>7.895800</td>\n",
       "    </tr>\n",
       "    <tr>\n",
       "      <th>50%</th>\n",
       "      <td>655.000000</td>\n",
       "      <td>0.000000</td>\n",
       "      <td>3.000000</td>\n",
       "      <td>28.000000</td>\n",
       "      <td>0.000000</td>\n",
       "      <td>0.000000</td>\n",
       "      <td>14.454200</td>\n",
       "    </tr>\n",
       "    <tr>\n",
       "      <th>75%</th>\n",
       "      <td>982.000000</td>\n",
       "      <td>1.000000</td>\n",
       "      <td>3.000000</td>\n",
       "      <td>39.000000</td>\n",
       "      <td>1.000000</td>\n",
       "      <td>0.000000</td>\n",
       "      <td>31.275000</td>\n",
       "    </tr>\n",
       "    <tr>\n",
       "      <th>max</th>\n",
       "      <td>1309.000000</td>\n",
       "      <td>1.000000</td>\n",
       "      <td>3.000000</td>\n",
       "      <td>80.000000</td>\n",
       "      <td>8.000000</td>\n",
       "      <td>9.000000</td>\n",
       "      <td>512.329200</td>\n",
       "    </tr>\n",
       "  </tbody>\n",
       "</table>\n",
       "</div>"
      ],
      "text/plain": [
       "       PassengerId    Survived       Pclass          Age        SibSp  \\\n",
       "count  1309.000000  891.000000  1309.000000  1046.000000  1309.000000   \n",
       "mean    655.000000    0.383838     2.294882    29.881138     0.498854   \n",
       "std     378.020061    0.486592     0.837836    14.413493     1.041658   \n",
       "min       1.000000    0.000000     1.000000     0.170000     0.000000   \n",
       "25%     328.000000    0.000000     2.000000    21.000000     0.000000   \n",
       "50%     655.000000    0.000000     3.000000    28.000000     0.000000   \n",
       "75%     982.000000    1.000000     3.000000    39.000000     1.000000   \n",
       "max    1309.000000    1.000000     3.000000    80.000000     8.000000   \n",
       "\n",
       "             Parch         Fare  \n",
       "count  1309.000000  1308.000000  \n",
       "mean      0.385027    33.295479  \n",
       "std       0.865560    51.758668  \n",
       "min       0.000000     0.000000  \n",
       "25%       0.000000     7.895800  \n",
       "50%       0.000000    14.454200  \n",
       "75%       0.000000    31.275000  \n",
       "max       9.000000   512.329200  "
      ]
     },
     "execution_count": 820,
     "metadata": {},
     "output_type": "execute_result"
    }
   ],
   "source": [
    "alldata.describe()"
   ]
  },
  {
   "cell_type": "markdown",
   "metadata": {},
   "source": [
    "## ■Pclassの生存割合を確認\n",
    "- Pclassは、１、２、３と３つに分かれている\n",
    "- 【仮説】チケットの等級が高い人は生存率が高い"
   ]
  },
  {
   "cell_type": "markdown",
   "metadata": {},
   "source": [
    "- 3は死亡者が70%付近、1は死亡者35%付近と35%以上の幅はある"
   ]
  },
  {
   "cell_type": "code",
   "execution_count": 821,
   "metadata": {},
   "outputs": [
    {
     "data": {
      "text/plain": [
       "<matplotlib.axes._subplots.AxesSubplot at 0x1a39c04e10>"
      ]
     },
     "execution_count": 821,
     "metadata": {},
     "output_type": "execute_result"
    },
    {
     "data": {
      "image/png": "[encoded data removed]",
      "text/plain": [
       "<Figure size 432x288 with 1 Axes>"
      ]
     },
     "metadata": {
      "needs_background": "light"
     },
     "output_type": "display_data"
    }
   ],
   "source": [
    "pclassdate = pd.crosstab(train['Pclass'],train['Survived']).apply(lambda x: x/x.sum() * 100, axis=1)\n",
    "pclassdate.plot.bar(stacked=True)"
   ]
  },
  {
   "cell_type": "markdown",
   "metadata": {},
   "source": [
    "- 度数も50以上あるので、説明変数として採用\n",
    "\n",
    "|採用項目|値|\n",
    "|-|-|\n",
    "|Pclass|1,2,3|"
   ]
  },
  {
   "cell_type": "code",
   "execution_count": 822,
   "metadata": {},
   "outputs": [
    {
     "data": {
      "text/plain": [
       "<matplotlib.axes._subplots.AxesSubplot at 0x1a37b06290>"
      ]
     },
     "execution_count": 822,
     "metadata": {},
     "output_type": "execute_result"
    },
    {
     "data": {
      "image/png": "[encoded data removed]",
      "text/plain": [
       "<Figure size 432x288 with 1 Axes>"
      ]
     },
     "metadata": {
      "needs_background": "light"
     },
     "output_type": "display_data"
    }
   ],
   "source": [
    "pclassdate = pd.crosstab(alldata['Pclass'],alldata.Survived.count())\n",
    "pclassdate.plot.bar(stacked=True)"
   ]
  },
  {
   "cell_type": "markdown",
   "metadata": {},
   "source": [
    "## ■Nameの長さで生存率を確認\n",
    "\n",
    "- 【仮説】名前の長さによって、その人の特徴が変わるかもしれないので、名前の長さを説明変数を確認してみる\n",
    "- \"Name_length\"列を作成して、Name列の名前の長さを挿入する\n",
    "- 名前の長さをヒストグラムで確認"
   ]
  },
  {
   "cell_type": "code",
   "execution_count": 823,
   "metadata": {},
   "outputs": [
    {
     "data": {
      "text/plain": [
       "(array([676., 479., 133.,  20.,   1.]),\n",
       " array([12., 26., 40., 54., 68., 82.]),\n",
       " <a list of 5 Patch objects>)"
      ]
     },
     "execution_count": 823,
     "metadata": {},
     "output_type": "execute_result"
    },
    {
     "data": {
      "image/png": "[encoded data removed]",
      "text/plain": [
       "<Figure size 432x288 with 1 Axes>"
      ]
     },
     "metadata": {
      "needs_background": "light"
     },
     "output_type": "display_data"
    }
   ],
   "source": [
    "alldata[\"Name_length\"] = alldata['Name'].map(lambda x: len(x))\n",
    "plt.hist(alldata['Name_length'],bins=5)"
   ]
  },
  {
   "cell_type": "markdown",
   "metadata": {},
   "source": [
    "- 名前の長さ25以下を1に、25〜39まで2に、39以上を3に、主に1つの段差ごとにユニークを作成、39以上は度数が少ないため1つにまとめる\n",
    "- 1が死亡者70%、3が20%以下なので特徴があることを確認"
   ]
  },
  {
   "cell_type": "code",
   "execution_count": 824,
   "metadata": {},
   "outputs": [
    {
     "data": {
      "text/plain": [
       "<matplotlib.axes._subplots.AxesSubplot at 0x1a3b5f31d0>"
      ]
     },
     "execution_count": 824,
     "metadata": {},
     "output_type": "execute_result"
    },
    {
     "data": {
      "image/png": "[encoded data removed]",
      "text/plain": [
       "<Figure size 432x288 with 1 Axes>"
      ]
     },
     "metadata": {
      "needs_background": "light"
     },
     "output_type": "display_data"
    }
   ],
   "source": [
    "alldata.loc[(alldata['Name_length'] >10 ) & (alldata['Name_length'] <= 25 ),['Name_length']]= 1\n",
    "alldata.loc[(alldata['Name_length'] > 25) & (alldata['Name_length'] <= 39) ,['Name_length']]= 2\n",
    "alldata.loc[(alldata['Name_length'] > 39) ,['Name_length']]= 3\n",
    "name_lengthdate = pd.crosstab(alldata['Name_length'],alldata['Survived']).apply(lambda x: x/x.sum() * 100, axis=1)\n",
    "name_lengthdate.plot.bar(stacked=True)"
   ]
  },
  {
   "cell_type": "markdown",
   "metadata": {},
   "source": [
    "- 度数が50以上なので説明変数として採用\n",
    "\n",
    "|採用項目|値|\n",
    "|-|-|\n",
    "|Pclass|1,2,3|\n",
    "|Name_length|1,2,3|"
   ]
  },
  {
   "cell_type": "code",
   "execution_count": 825,
   "metadata": {},
   "outputs": [
    {
     "data": {
      "text/plain": [
       "<matplotlib.axes._subplots.AxesSubplot at 0x1a391c7790>"
      ]
     },
     "execution_count": 825,
     "metadata": {},
     "output_type": "execute_result"
    },
    {
     "data": {
      "image/png": "[encoded data removed]",
      "text/plain": [
       "<Figure size 432x288 with 1 Axes>"
      ]
     },
     "metadata": {
      "needs_background": "light"
     },
     "output_type": "display_data"
    }
   ],
   "source": [
    "name_lengthdate = pd.crosstab(alldata['Name_length'],alldata.Survived.count())\n",
    "name_lengthdate.plot.bar(stacked=True)"
   ]
  },
  {
   "cell_type": "markdown",
   "metadata": {},
   "source": [
    "## ■Nameの敬称から生存率を確認\n",
    "- 【仮説】名前の敬称によって、その人の特徴があるかもしれないので確認してみる\n",
    "- honorific列を作成して、splitでNameのそれぞれの敬称を挿入\n",
    "- 死亡率が80%以上のMrとその他の100%の敬称を1に\n",
    "- MissとMrsを2に、その他の生存者しかいない敬称も2とする\n",
    "- その他を全て3にする\n",
    "\n",
    "|採用項目|値|\n",
    "|-|-|\n",
    "|Pclass|1,2,3|\n",
    "|Name_length|1,2,3|\n",
    "|honorific|1,2,3|"
   ]
  },
  {
   "cell_type": "code",
   "execution_count": 826,
   "metadata": {},
   "outputs": [],
   "source": [
    "alldata['honorific'] = alldata['Name'].map(lambda x: x.split(', ')[1])\n",
    "alldata['honorific'] = alldata['honorific'].map(lambda x: x.split('. ')[0])"
   ]
  },
  {
   "cell_type": "code",
   "execution_count": 827,
   "metadata": {},
   "outputs": [
    {
     "data": {
      "text/plain": [
       "<matplotlib.axes._subplots.AxesSubplot at 0x1a3c570450>"
      ]
     },
     "execution_count": 827,
     "metadata": {},
     "output_type": "execute_result"
    },
    {
     "data": {
      "image/png": "[encoded data removed]",
      "text/plain": [
       "<Figure size 432x288 with 1 Axes>"
      ]
     },
     "metadata": {
      "needs_background": "light"
     },
     "output_type": "display_data"
    },
    {
     "data": {
      "image/png": "[encoded data removed]",
      "text/plain": [
       "<Figure size 432x288 with 1 Axes>"
      ]
     },
     "metadata": {
      "needs_background": "light"
     },
     "output_type": "display_data"
    }
   ],
   "source": [
    "honorificdate = pd.crosstab(alldata['honorific'],alldata['Survived']).apply(lambda x: x/x.sum() * 100, axis=1)\n",
    "honorificdate.plot.bar(stacked=True)\n",
    "honorificdate = pd.crosstab(alldata['honorific'],alldata.Survived.count())\n",
    "honorificdate.plot.bar(stacked=True)"
   ]
  },
  {
   "cell_type": "code",
   "execution_count": 828,
   "metadata": {},
   "outputs": [],
   "source": [
    "alldata['honorific'] = alldata['honorific'].replace({'Mr': 1, 'DonI': 1,'Capt':1,'Rev':1,'Jonkheer':1,'Don':1})\n",
    "alldata['honorific'] = alldata['honorific'].replace({'Miss': 2, 'Mrs': 2,'Mlle':2,'Mme':2, 'Ms': 2,'Sir':2,'he Countess':2,'Lady':2})\n",
    "alldata['honorific'] = alldata['honorific'].replace({'Col': 3,'Dr': 3,'Major':3,'Master':3,'Dona':3,'the Countess':3})"
   ]
  },
  {
   "cell_type": "markdown",
   "metadata": {},
   "source": [
    "- 1の死亡者が85%、2が30%なのど、敬称ごとに特徴があるのを確認"
   ]
  },
  {
   "cell_type": "code",
   "execution_count": 829,
   "metadata": {},
   "outputs": [
    {
     "data": {
      "text/plain": [
       "<matplotlib.axes._subplots.AxesSubplot at 0x1a3c220fd0>"
      ]
     },
     "execution_count": 829,
     "metadata": {},
     "output_type": "execute_result"
    },
    {
     "data": {
      "image/png": "[encoded data removed]",
      "text/plain": [
       "<Figure size 432x288 with 1 Axes>"
      ]
     },
     "metadata": {
      "needs_background": "light"
     },
     "output_type": "display_data"
    }
   ],
   "source": [
    "honorificdate = pd.crosstab(alldata['honorific'],alldata['Survived']).apply(lambda x: x/x.sum() * 100, axis=1)\n",
    "honorificdate.plot.bar(stacked=True)"
   ]
  },
  {
   "cell_type": "code",
   "execution_count": 830,
   "metadata": {},
   "outputs": [
    {
     "data": {
      "text/plain": [
       "1    768\n",
       "2    464\n",
       "3     77\n",
       "Name: honorific, dtype: int64"
      ]
     },
     "execution_count": 830,
     "metadata": {},
     "output_type": "execute_result"
    }
   ],
   "source": [
    "alldata['honorific'].value_counts()"
   ]
  },
  {
   "cell_type": "markdown",
   "metadata": {},
   "source": [
    "- 3の度数は怪しいが、50はありそうなので　説明変数として採用\n",
    "\n",
    "|採用項目|値|\n",
    "|-|-|\n",
    "|Pclass|1,2,3|\n",
    "|Name_length|1,2,3|\n",
    "|honorific|1,2,3|"
   ]
  },
  {
   "cell_type": "code",
   "execution_count": 831,
   "metadata": {},
   "outputs": [
    {
     "data": {
      "text/plain": [
       "<matplotlib.axes._subplots.AxesSubplot at 0x1a3e410390>"
      ]
     },
     "execution_count": 831,
     "metadata": {},
     "output_type": "execute_result"
    },
    {
     "data": {
      "image/png": "[encoded data removed]",
      "text/plain": [
       "<Figure size 432x288 with 1 Axes>"
      ]
     },
     "metadata": {
      "needs_background": "light"
     },
     "output_type": "display_data"
    }
   ],
   "source": [
    "honorificdate = pd.crosstab(alldata['honorific'],alldata.Survived.count())\n",
    "honorificdate.plot.bar(stacked=True)"
   ]
  },
  {
   "cell_type": "markdown",
   "metadata": {},
   "source": [
    "## ■Sexと生存率を確認\n",
    "\n",
    "- 性別で生存率の確認をする\n",
    "- 【仮説】女性の生存率は高いかもしれない"
   ]
  },
  {
   "cell_type": "markdown",
   "metadata": {},
   "source": [
    "- 男性を1、女性を2にする\n",
    "- 男性と女性で50%以上の幅を確認"
   ]
  },
  {
   "cell_type": "code",
   "execution_count": 832,
   "metadata": {},
   "outputs": [
    {
     "data": {
      "text/plain": [
       "<matplotlib.axes._subplots.AxesSubplot at 0x1a3e4f1b90>"
      ]
     },
     "execution_count": 832,
     "metadata": {},
     "output_type": "execute_result"
    },
    {
     "data": {
      "image/png": "[encoded data removed]",
      "text/plain": [
       "<Figure size 432x288 with 1 Axes>"
      ]
     },
     "metadata": {
      "needs_background": "light"
     },
     "output_type": "display_data"
    }
   ],
   "source": [
    "alldata.loc[(alldata[\"Sex\"] == \"male\"), [\"Sex\"]]=1\n",
    "alldata.loc[(alldata[\"Sex\"] == \"female\"),[\"Sex\"]]=2\n",
    "\n",
    "sexdata = pd.crosstab(alldata['Sex'],alldata['Survived']).apply(lambda x: x/x.sum() * 100, axis=1)\n",
    "sexdata.plot.bar(stacked=True)"
   ]
  },
  {
   "cell_type": "markdown",
   "metadata": {},
   "source": [
    "-　度数も問題なしなので、説明変数として採用\n",
    "\n",
    "|採用項目|値|\n",
    "|-|-|\n",
    "|Pclass|1,2,3|\n",
    "|Name_length|1,2,3|\n",
    "|honorific|1,2,3|\n",
    "|Sex|1,2|"
   ]
  },
  {
   "cell_type": "code",
   "execution_count": 833,
   "metadata": {},
   "outputs": [
    {
     "data": {
      "text/plain": [
       "<matplotlib.axes._subplots.AxesSubplot at 0x1a3e5be050>"
      ]
     },
     "execution_count": 833,
     "metadata": {},
     "output_type": "execute_result"
    },
    {
     "data": {
      "image/png": "[encoded data removed]",
      "text/plain": [
       "<Figure size 432x288 with 1 Axes>"
      ]
     },
     "metadata": {
      "needs_background": "light"
     },
     "output_type": "display_data"
    }
   ],
   "source": [
    "sexdata = pd.crosstab(alldata['Sex'],alldata.Survived.count())\n",
    "sexdata.plot.bar(stacked=True)"
   ]
  },
  {
   "cell_type": "markdown",
   "metadata": {},
   "source": [
    "\n",
    "## ■年齢の記載有り無しで生存率の確認\n",
    "\n",
    "- 年齢情報の有無により、何か特徴があるかもしれないので確認をする\n",
    "- 【仮説】年齢の記載は必須項目ではない、たまたま情報がなかっただけかもしれないが、念のため確認してみる"
   ]
  },
  {
   "cell_type": "markdown",
   "metadata": {},
   "source": [
    "- Age_check列を作成して、年齢の記載がある人を1、年齢の記載がない人を2とする\n",
    "- 年齢の有無による生存率の幅は少ないため、説明変数としては不採用\n",
    "\n",
    "\n",
    "|採用項目|値|\n",
    "|-|-|\n",
    "|Pclass|1,2,3|\n",
    "|Name_length|1,2,3,4|\n",
    "|honorific|1,2,3|\n",
    "|Sex|1,2|\n",
    "\n",
    "|不採用項目|\n",
    "|-|\n",
    "|Age_check|"
   ]
  },
  {
   "cell_type": "code",
   "execution_count": 834,
   "metadata": {},
   "outputs": [],
   "source": [
    "alldata[\"Age_check\"] = alldata['Age'] \n",
    "alldata[\"Age_check\"] = alldata[\"Age_check\"].fillna(2)\n",
    "alldata.loc[(alldata[\"Age_check\"] != 2),[\"Age_check\"]]=1"
   ]
  },
  {
   "cell_type": "code",
   "execution_count": 835,
   "metadata": {},
   "outputs": [
    {
     "data": {
      "text/plain": [
       "<matplotlib.axes._subplots.AxesSubplot at 0x1a3e6b1dd0>"
      ]
     },
     "execution_count": 835,
     "metadata": {},
     "output_type": "execute_result"
    },
    {
     "data": {
      "image/png": "[encoded data removed]",
      "text/plain": [
       "<Figure size 432x288 with 1 Axes>"
      ]
     },
     "metadata": {
      "needs_background": "light"
     },
     "output_type": "display_data"
    }
   ],
   "source": [
    "age_checkdate = pd.crosstab(alldata['Age_check'],alldata['Survived']).apply(lambda x: x/x.sum() * 100, axis=1)\n",
    "age_checkdate.plot.bar(stacked=True)"
   ]
  },
  {
   "cell_type": "markdown",
   "metadata": {},
   "source": [
    "\n",
    "## ■年齢での生存率の確認\n",
    "\n",
    "- 年齢によって生存率が違うかもしれないので確認をする\n",
    "- 【仮説】子供の生存値が高そうだから確認をしてみる"
   ]
  },
  {
   "cell_type": "markdown",
   "metadata": {},
   "source": [
    "- 年齢の度数をヒストグラムで確認\n",
    "- 17歳以下を1に、15歳以上32歳以下を2に、33歳以上47歳以下を3と段差ごとに分ける、47歳以上を4とする\n",
    "- 幅が30%より少ないので説明変数としては不採用\n",
    "\n",
    "|採用項目|値|\n",
    "|-|-|\n",
    "|Pclass|1,2,3|\n",
    "|Name_length|1,2,3,4|\n",
    "|honorific|1,2,3|\n",
    "|Sex|1,2|\n",
    "\n",
    "|不採用項目|\n",
    "|-|\n",
    "|Age_check|\n",
    "|Age|"
   ]
  },
  {
   "cell_type": "code",
   "execution_count": 836,
   "metadata": {},
   "outputs": [
    {
     "name": "stderr",
     "output_type": "stream",
     "text": [
      "/Users/tatsuhiro/opt/anaconda3/lib/python3.7/site-packages/numpy/lib/histograms.py:839: RuntimeWarning: invalid value encountered in greater_equal\n",
      "  keep = (tmp_a >= first_edge)\n",
      "/Users/tatsuhiro/opt/anaconda3/lib/python3.7/site-packages/numpy/lib/histograms.py:840: RuntimeWarning: invalid value encountered in less_equal\n",
      "  keep &= (tmp_a <= last_edge)\n"
     ]
    },
    {
     "data": {
      "text/plain": [
       "(array([134., 524., 269., 106.,  13.]),\n",
       " array([ 0.17 , 16.136, 32.102, 48.068, 64.034, 80.   ]),\n",
       " <a list of 5 Patch objects>)"
      ]
     },
     "execution_count": 836,
     "metadata": {},
     "output_type": "execute_result"
    },
    {
     "data": {
      "image/png": "[encoded data removed]",
      "text/plain": [
       "<Figure size 432x288 with 1 Axes>"
      ]
     },
     "metadata": {
      "needs_background": "light"
     },
     "output_type": "display_data"
    }
   ],
   "source": [
    "plt.hist(alldata['Age'],bins=5)"
   ]
  },
  {
   "cell_type": "code",
   "execution_count": 837,
   "metadata": {
    "scrolled": true
   },
   "outputs": [
    {
     "data": {
      "text/plain": [
       "<matplotlib.axes._subplots.AxesSubplot at 0x1a3e81ca50>"
      ]
     },
     "execution_count": 837,
     "metadata": {},
     "output_type": "execute_result"
    },
    {
     "data": {
      "image/png": "[encoded data removed]",
      "text/plain": [
       "<Figure size 432x288 with 1 Axes>"
      ]
     },
     "metadata": {
      "needs_background": "light"
     },
     "output_type": "display_data"
    }
   ],
   "source": [
    "alldata.loc[(alldata[\"Age\"] < 17), [\"Age\"]]=1\n",
    "alldata.loc[(alldata[\"Age\"] >= 15) & (alldata[\"Age\"] <= 32), [\"Age\"]]=2\n",
    "alldata.loc[(alldata[\"Age\"] > 32) & (alldata[\"Age\"] <=47), [\"Age\"]]=3\n",
    "alldata.loc[(alldata[\"Age\"] > 47), [\"Age\"]]=4\n",
    "agedata = pd.crosstab(alldata['Age'],alldata['Survived']).apply(lambda x: x/x.sum() * 100, axis=1)\n",
    "agedata.plot.bar(stacked=True)"
   ]
  },
  {
   "cell_type": "markdown",
   "metadata": {},
   "source": [
    "## ■SibSpで生存率の確認\n",
    "- sibSp（配偶者、兄弟の有無）によって生存率があるか確認をする\n",
    "- 【仮説】配偶者がいると、生存率は少し高いかもしれない"
   ]
  },
  {
   "cell_type": "markdown",
   "metadata": {},
   "source": [
    "- SibSp1とSibSp5は50%の幅はある"
   ]
  },
  {
   "cell_type": "code",
   "execution_count": 838,
   "metadata": {
    "scrolled": true
   },
   "outputs": [
    {
     "data": {
      "text/plain": [
       "<matplotlib.axes._subplots.AxesSubplot at 0x1a3e90ef90>"
      ]
     },
     "execution_count": 838,
     "metadata": {},
     "output_type": "execute_result"
    },
    {
     "data": {
      "image/png": "[encoded data removed]",
      "text/plain": [
       "<Figure size 432x288 with 1 Axes>"
      ]
     },
     "metadata": {
      "needs_background": "light"
     },
     "output_type": "display_data"
    }
   ],
   "source": [
    "sibspdata = pd.crosstab(alldata['SibSp'],alldata['Survived']).apply(lambda x: x/x.sum() * 100, axis=1)\n",
    "sibspdata.plot.bar(stacked=True)"
   ]
  },
  {
   "cell_type": "markdown",
   "metadata": {},
   "source": [
    "-5の度数が少ない、度数が多い0と1は幅が少ないため説明変数としては不採用\n",
    "\n",
    "|採用項目|値|\n",
    "|-|-|\n",
    "|Pclass|1,2,3|\n",
    "|Name_length|1,2,3,4|\n",
    "|honorific|1,2,3|\n",
    "|Sex|1,2|\n",
    "\n",
    "|不採用項目|\n",
    "|-|\n",
    "|Age_check|\n",
    "|Age|\n",
    "|SibSp|\n"
   ]
  },
  {
   "cell_type": "code",
   "execution_count": 839,
   "metadata": {},
   "outputs": [
    {
     "data": {
      "text/plain": [
       "<matplotlib.axes._subplots.AxesSubplot at 0x1a3ea0a250>"
      ]
     },
     "execution_count": 839,
     "metadata": {},
     "output_type": "execute_result"
    },
    {
     "data": {
      "image/png": "[encoded data removed]",
      "text/plain": [
       "<Figure size 432x288 with 1 Axes>"
      ]
     },
     "metadata": {
      "needs_background": "light"
     },
     "output_type": "display_data"
    }
   ],
   "source": [
    "sibspdata = pd.crosstab(alldata['SibSp'],alldata.Survived.count())\n",
    "sibspdata.plot.bar(stacked=True)"
   ]
  },
  {
   "cell_type": "markdown",
   "metadata": {},
   "source": [
    "## ■Parchで生存率の確認\n",
    "\n",
    "- Parch（親、子供）の違いによって、特徴があるかもしれないので確認をする\n",
    "- 【仮説】Parchが高ければ、生存率は高そう"
   ]
  },
  {
   "cell_type": "markdown",
   "metadata": {},
   "source": [
    "- 30%以上の幅の項目はある"
   ]
  },
  {
   "cell_type": "code",
   "execution_count": 840,
   "metadata": {},
   "outputs": [
    {
     "data": {
      "text/plain": [
       "<matplotlib.axes._subplots.AxesSubplot at 0x1a3eb1c490>"
      ]
     },
     "execution_count": 840,
     "metadata": {},
     "output_type": "execute_result"
    },
    {
     "data": {
      "image/png": "[encoded data removed]",
      "text/plain": [
       "<Figure size 432x288 with 1 Axes>"
      ]
     },
     "metadata": {
      "needs_background": "light"
     },
     "output_type": "display_data"
    }
   ],
   "source": [
    "parchdata = pd.crosstab(alldata['Parch'],alldata['Survived']).apply(lambda x: x/x.sum() * 100, axis=1)\n",
    "parchdata.plot.bar(stacked=True)"
   ]
  },
  {
   "cell_type": "markdown",
   "metadata": {},
   "source": [
    "- 0、1、２は幅が狭く、それ以外は度数が少ないので説明変数としては不採用\n",
    "\n",
    "|採用項目|値|\n",
    "|-|-|\n",
    "|Pclass|1,2,3|\n",
    "|Name_length|1,2,3,4|\n",
    "|honorific|1,2,3|\n",
    "|Sex|1,2|\n",
    "\n",
    "|不採用項目|\n",
    "|-|\n",
    "|Age_check|\n",
    "|Age|\n",
    "|SibSp|"
   ]
  },
  {
   "cell_type": "code",
   "execution_count": 841,
   "metadata": {},
   "outputs": [
    {
     "data": {
      "text/plain": [
       "<matplotlib.axes._subplots.AxesSubplot at 0x1a3ec13790>"
      ]
     },
     "execution_count": 841,
     "metadata": {},
     "output_type": "execute_result"
    },
    {
     "data": {
      "image/png": "[encoded data removed]",
      "text/plain": [
       "<Figure size 432x288 with 1 Axes>"
      ]
     },
     "metadata": {
      "needs_background": "light"
     },
     "output_type": "display_data"
    }
   ],
   "source": [
    "parchdata = pd.crosstab(alldata['Parch'],alldata.Survived.count())\n",
    "parchdata.plot.bar(stacked=True)"
   ]
  },
  {
   "cell_type": "markdown",
   "metadata": {},
   "source": [
    "## ■Familyで生存率を確認する\n",
    "\n",
    "- 家族の人数によって、特徴が現れるかもしれないので確認をしてみる\n",
    "- 【仮説】SibSpとParchは特徴としてはいまいちだったかもしれないが、2つの特徴あわすことによって、大きな特徴になるかもしれない"
   ]
  },
  {
   "cell_type": "markdown",
   "metadata": {},
   "source": [
    "- SibspとParchの数字を足してFamily sizeで列を作成する\n",
    "- 3と10で十分な幅はある"
   ]
  },
  {
   "cell_type": "code",
   "execution_count": 842,
   "metadata": {},
   "outputs": [
    {
     "data": {
      "text/plain": [
       "<matplotlib.axes._subplots.AxesSubplot at 0x1a3ecfd210>"
      ]
     },
     "execution_count": 842,
     "metadata": {},
     "output_type": "execute_result"
    },
    {
     "data": {
      "image/png": "[encoded data removed]",
      "text/plain": [
       "<Figure size 432x288 with 1 Axes>"
      ]
     },
     "metadata": {
      "needs_background": "light"
     },
     "output_type": "display_data"
    }
   ],
   "source": [
    "alldata[\"Family\"]= alldata['SibSp']  + alldata['Parch']\n",
    "familydata = pd.crosstab(alldata['Family'],alldata['Survived']).apply(lambda x: x/x.sum() * 100, axis=1)\n",
    "familydata.plot.bar(stacked=True)"
   ]
  },
  {
   "cell_type": "markdown",
   "metadata": {},
   "source": [
    "- 2と1が近いので統一する\n",
    "- 3も度数が少ないため、1に統一する\n",
    "- 4以降は度数が少ないため全て0にする\n",
    "\n"
   ]
  },
  {
   "cell_type": "code",
   "execution_count": 843,
   "metadata": {},
   "outputs": [
    {
     "data": {
      "text/plain": [
       "<matplotlib.axes._subplots.AxesSubplot at 0x1a3ed0e1d0>"
      ]
     },
     "execution_count": 843,
     "metadata": {},
     "output_type": "execute_result"
    },
    {
     "data": {
      "image/png": "[encoded data removed]",
      "text/plain": [
       "<Figure size 432x288 with 1 Axes>"
      ]
     },
     "metadata": {
      "needs_background": "light"
     },
     "output_type": "display_data"
    }
   ],
   "source": [
    "familydata = pd.crosstab(alldata['Family'],alldata.Survived.count())\n",
    "familydata.plot.bar(stacked=True)"
   ]
  },
  {
   "cell_type": "code",
   "execution_count": 844,
   "metadata": {},
   "outputs": [],
   "source": [
    "alldata.loc[(alldata['Family']==2),['Family']]=1\n",
    "alldata.loc[(alldata['Family']==3),['Family']]=1\n",
    "alldata.loc[(alldata['Family'] != 1),['Family']]=0"
   ]
  },
  {
   "cell_type": "markdown",
   "metadata": {},
   "source": [
    "- 0と1で再度確認をする、説明変30% 以上"
   ]
  },
  {
   "cell_type": "code",
   "execution_count": 845,
   "metadata": {},
   "outputs": [
    {
     "data": {
      "text/plain": [
       "<matplotlib.axes._subplots.AxesSubplot at 0x1a3ef2d290>"
      ]
     },
     "execution_count": 845,
     "metadata": {},
     "output_type": "execute_result"
    },
    {
     "data": {
      "image/png": "[encoded data removed]",
      "text/plain": [
       "<Figure size 432x288 with 1 Axes>"
      ]
     },
     "metadata": {
      "needs_background": "light"
     },
     "output_type": "display_data"
    }
   ],
   "source": [
    "pclassdate = pd.crosstab(alldata['Family'],alldata['Survived']).apply(lambda x:x/x.sum()*100,axis=1)\n",
    "pclassdate.plot.bar(stacked=True)"
   ]
  },
  {
   "cell_type": "markdown",
   "metadata": {},
   "source": [
    "- 度数も問題ないので、説明変数として採用\n",
    "\n",
    "|採用項目|\n",
    "|-|\n",
    "|Pclass1,2,3|\n",
    "|Name_length1,2,3,4|\n",
    "|honorific1,2,3|\n",
    "|Sex1,2|\n",
    "|Family1,2|\n",
    "\n",
    "|不採用項目|\n",
    "|-|\n",
    "|Age_check|\n",
    "|Age|\n",
    "|SibSp|\n",
    "|Parch|"
   ]
  },
  {
   "cell_type": "code",
   "execution_count": 846,
   "metadata": {},
   "outputs": [
    {
     "data": {
      "text/plain": [
       "<matplotlib.axes._subplots.AxesSubplot at 0x1a3f013cd0>"
      ]
     },
     "execution_count": 846,
     "metadata": {},
     "output_type": "execute_result"
    },
    {
     "data": {
      "image/png": "[encoded data removed]",
      "text/plain": [
       "<Figure size 432x288 with 1 Axes>"
      ]
     },
     "metadata": {
      "needs_background": "light"
     },
     "output_type": "display_data"
    }
   ],
   "source": [
    "pclassdate = pd.crosstab(alldata['Family'],alldata.Survived.count())\n",
    "pclassdate.plot.bar(stacked=True)"
   ]
  },
  {
   "cell_type": "markdown",
   "metadata": {},
   "source": [
    "## チケットの種類で生存率を確認する\n",
    "\n",
    "- チケットの種類によって、特徴があるかもしれないので確認をしてみる\n",
    "- 【仮説】Pclassで特徴があるために、チケットの種類でも特徴は期待できる"
   ]
  },
  {
   "cell_type": "markdown",
   "metadata": {},
   "source": [
    "- Ticket列の説明変数を頭文字１文字にする"
   ]
  },
  {
   "cell_type": "code",
   "execution_count": 847,
   "metadata": {},
   "outputs": [],
   "source": [
    "alldata[\"Ticket\"] = alldata[\"Ticket\"].map(lambda x:str(x)[0])"
   ]
  },
  {
   "cell_type": "code",
   "execution_count": 848,
   "metadata": {},
   "outputs": [
    {
     "data": {
      "text/plain": [
       "<matplotlib.axes._subplots.AxesSubplot at 0x1a3f0fb210>"
      ]
     },
     "execution_count": 848,
     "metadata": {},
     "output_type": "execute_result"
    },
    {
     "data": {
      "image/png": "[encoded data removed]",
      "text/plain": [
       "<Figure size 432x288 with 1 Axes>"
      ]
     },
     "metadata": {
      "needs_background": "light"
     },
     "output_type": "display_data"
    }
   ],
   "source": [
    "ticketdata = pd.crosstab(alldata['Ticket'],alldata['Survived']).apply(lambda x: x/x.sum() * 100, axis=1)\n",
    "ticketdata.plot.bar(stacked=True)"
   ]
  },
  {
   "cell_type": "markdown",
   "metadata": {},
   "source": [
    "- ユニークが多く、度数が少ない説明変数が多いので近い値を統一していく\n",
    "- 40%付近のFとPを1に統一する\n",
    "- 60%付近のCとLとSを2で統一する\n",
    "- その他70%以上を3に統一する\n"
   ]
  },
  {
   "cell_type": "code",
   "execution_count": 849,
   "metadata": {},
   "outputs": [
    {
     "data": {
      "image/png": "[encoded data removed]",
      "text/plain": [
       "<Figure size 432x288 with 1 Axes>"
      ]
     },
     "metadata": {
      "needs_background": "light"
     },
     "output_type": "display_data"
    }
   ],
   "source": [
    "ticketdata = pd.crosstab(alldata['Ticket'],alldata.Survived.count())\n",
    "ticketdata.plot.bar(stacked=True)\n",
    "alldata['Ticket'].replace({'F': 1, 'P': 1})\n",
    "alldata['Ticket'].replace({'C': 2, 'L':2,'S': 2})\n",
    "alldata.loc[(alldata['Ticket'] != \"1\") & (alldata['Ticket'] != \"2\"),['Ticket']]= \"3\""
   ]
  },
  {
   "cell_type": "markdown",
   "metadata": {},
   "source": [
    "- クロス集計で再度確認をする\n",
    "- 1と3の幅を確認30%はある"
   ]
  },
  {
   "cell_type": "code",
   "execution_count": 850,
   "metadata": {},
   "outputs": [
    {
     "data": {
      "text/plain": [
       "<matplotlib.axes._subplots.AxesSubplot at 0x1a3f343290>"
      ]
     },
     "execution_count": 850,
     "metadata": {},
     "output_type": "execute_result"
    },
    {
     "data": {
      "image/png": "[encoded data removed]",
      "text/plain": [
       "<Figure size 432x288 with 1 Axes>"
      ]
     },
     "metadata": {
      "needs_background": "light"
     },
     "output_type": "display_data"
    }
   ],
   "source": [
    "ticketdata = pd.crosstab(alldata['Ticket'],alldata['Survived']).apply(lambda x: x/x.sum() * 100, axis=1)\n",
    "ticketdata.plot.bar(stacked=True)"
   ]
  },
  {
   "cell_type": "markdown",
   "metadata": {},
   "source": [
    "- 統一した後は度数が50以上どれもあるので説明変数として採用\n",
    "\n",
    "|採用項目|値|\n",
    "|-|-|\n",
    "|Pclass|1,2,3|\n",
    "|Name_length|1,2,3,4|\n",
    "|honorific|1,2,3|\n",
    "|Sex|1,2|\n",
    "|honorific|1,2,3|\n",
    "|Family|1,2|\n",
    "|Ticket|1,2,3|\n",
    "\n",
    "\n",
    "|不採用項目|\n",
    "|-|\n",
    "|Age_check|\n",
    "|Age|\n",
    "|SibSp|\n",
    "|Parch|\n"
   ]
  },
  {
   "cell_type": "code",
   "execution_count": 851,
   "metadata": {},
   "outputs": [
    {
     "data": {
      "text/plain": [
       "<matplotlib.axes._subplots.AxesSubplot at 0x1a3f4473d0>"
      ]
     },
     "execution_count": 851,
     "metadata": {},
     "output_type": "execute_result"
    },
    {
     "data": {
      "image/png": "[encoded data removed]",
      "text/plain": [
       "<Figure size 432x288 with 1 Axes>"
      ]
     },
     "metadata": {
      "needs_background": "light"
     },
     "output_type": "display_data"
    }
   ],
   "source": [
    "ticketdata = pd.crosstab(alldata['Ticket'],alldata.Survived.count())\n",
    "ticketdata.plot.bar(stacked=True)"
   ]
  },
  {
   "cell_type": "markdown",
   "metadata": {},
   "source": [
    "## ■Fareで生存率確認\n",
    "\n",
    "- Fareによる特徴を確認\n",
    "- 【仮説】チケットやPclassが特徴あったので、Fareも特徴がありそう"
   ]
  },
  {
   "cell_type": "markdown",
   "metadata": {},
   "source": [
    "- ヒストグラムで度数分布を確認する\n",
    "- 10以下を1、10より高い20以下を2\n",
    "- 20より高い30以下を3、30より高い40以下を4、40より高いを5とする\n",
    "- 空白があるので、最頻値を埋める"
   ]
  },
  {
   "cell_type": "markdown",
   "metadata": {},
   "source": [
    "\n"
   ]
  },
  {
   "cell_type": "code",
   "execution_count": 852,
   "metadata": {},
   "outputs": [
    {
     "data": {
      "text/plain": [
       "(array([491., 261., 206.,  86.,  22.,  56.,  30.,  39.,  22.,  11.]),\n",
       " array([  0.,  10.,  20.,  30.,  40.,  50.,  60.,  70.,  80.,  90., 100.]),\n",
       " <a list of 10 Patch objects>)"
      ]
     },
     "execution_count": 852,
     "metadata": {},
     "output_type": "execute_result"
    },
    {
     "data": {
      "image/png": "[encoded data removed]",
      "text/plain": [
       "<Figure size 432x288 with 1 Axes>"
      ]
     },
     "metadata": {
      "needs_background": "light"
     },
     "output_type": "display_data"
    }
   ],
   "source": [
    "plt.hist(alldata['Fare'],bins=10, range=(0, 100))"
   ]
  },
  {
   "cell_type": "code",
   "execution_count": 853,
   "metadata": {},
   "outputs": [],
   "source": [
    "alldata.Fare.fillna(alldata.Fare.mode()[0], inplace=True)\n",
    "alldata.loc[(alldata['Fare'] <=10) ,['Fare']]= 1\n",
    "alldata.loc[(alldata['Fare'] > 10) & (alldata['Fare'] <= 20),['Fare']]= 2\n",
    "alldata.loc[(alldata['Fare'] > 20) & (alldata['Fare'] <= 30),['Fare']]= 3\n",
    "alldata.loc[(alldata['Fare'] > 30) &(alldata['Fare'] <= 40),['Fare']]= 4\n",
    "alldata.loc[(alldata['Fare'] > 40),['Fare']]= 5"
   ]
  },
  {
   "cell_type": "markdown",
   "metadata": {},
   "source": [
    "- クロス集計で確認をする\n",
    "- ２と3が近いので統一する\n",
    "- 4と2も近いので統一する"
   ]
  },
  {
   "cell_type": "code",
   "execution_count": 854,
   "metadata": {},
   "outputs": [
    {
     "data": {
      "image/png": "[encoded data removed]",
      "text/plain": [
       "<Figure size 432x288 with 1 Axes>"
      ]
     },
     "metadata": {
      "needs_background": "light"
     },
     "output_type": "display_data"
    }
   ],
   "source": [
    "faredata = pd.crosstab(alldata['Fare'],alldata['Survived']).apply(lambda x: x/x.sum() * 100, axis=1)\n",
    "faredata.plot.bar(stacked=True)\n",
    "alldata.loc[(alldata['Fare'] == 3) ,['Fare']]= 2\n",
    "alldata.loc[(alldata['Fare'] == 4) ,['Fare']]= 2"
   ]
  },
  {
   "cell_type": "markdown",
   "metadata": {},
   "source": [
    "- 1と5で30%以上の幅を確認"
   ]
  },
  {
   "cell_type": "code",
   "execution_count": 855,
   "metadata": {},
   "outputs": [
    {
     "data": {
      "text/plain": [
       "<matplotlib.axes._subplots.AxesSubplot at 0x1a3f717490>"
      ]
     },
     "execution_count": 855,
     "metadata": {},
     "output_type": "execute_result"
    },
    {
     "data": {
      "image/png": "[encoded data removed]",
      "text/plain": [
       "<Figure size 432x288 with 1 Axes>"
      ]
     },
     "metadata": {
      "needs_background": "light"
     },
     "output_type": "display_data"
    }
   ],
   "source": [
    "faredata = pd.crosstab(alldata['Fare'],alldata['Survived']).apply(lambda x: x/x.sum() * 100, axis=1)\n",
    "faredata.plot.bar(stacked=True)"
   ]
  },
  {
   "cell_type": "markdown",
   "metadata": {},
   "source": [
    "- 度数は問題ないので、説明変数として採用\n",
    "\n",
    "|採用項目|値|\n",
    "|-|-|\n",
    "|Pclass|1,2,3|\n",
    "|Name_length|1,2,3,4|\n",
    "|honorific|1,2,3|\n",
    "|Sex|1,2|\n",
    "|honorific|1,2,3|\n",
    "|Family|1,2|\n",
    "|Ticket|1,2,3|\n",
    "|Fare|1,2,5|\n",
    "\n",
    "|不採用項目|\n",
    "|-|\n",
    "|Age_check|\n",
    "|Age|\n",
    "|SibSp|\n",
    "|Parch|"
   ]
  },
  {
   "cell_type": "code",
   "execution_count": 856,
   "metadata": {},
   "outputs": [
    {
     "data": {
      "text/plain": [
       "<matplotlib.axes._subplots.AxesSubplot at 0x1a3f7f0490>"
      ]
     },
     "execution_count": 856,
     "metadata": {},
     "output_type": "execute_result"
    },
    {
     "data": {
      "image/png": "[encoded data removed]",
      "text/plain": [
       "<Figure size 432x288 with 1 Axes>"
      ]
     },
     "metadata": {
      "needs_background": "light"
     },
     "output_type": "display_data"
    }
   ],
   "source": [
    "faredata = pd.crosstab(alldata['Fare'],alldata.Survived.count())\n",
    "faredata.plot.bar(stacked=True)"
   ]
  },
  {
   "cell_type": "markdown",
   "metadata": {},
   "source": [
    "## ■Cabinでの生存率を確認\n",
    "\n",
    "- Cabin（客室番号）による特徴を確認する\n",
    "- 【仮説】Cabinによって、移動などに影響があるため、特徴はありそうだが、欠損値が多いため、説明数として使うのは難しいかも"
   ]
  },
  {
   "cell_type": "markdown",
   "metadata": {},
   "source": [
    "- 空白があるのでNoneで埋める\n",
    "- cabinの１文字目を取得する"
   ]
  },
  {
   "cell_type": "code",
   "execution_count": 857,
   "metadata": {
    "scrolled": true
   },
   "outputs": [
    {
     "data": {
      "text/plain": [
       "<matplotlib.axes._subplots.AxesSubplot at 0x1a3f8d4dd0>"
      ]
     },
     "execution_count": 857,
     "metadata": {},
     "output_type": "execute_result"
    },
    {
     "data": {
      "image/png": "[encoded data removed]",
      "text/plain": [
       "<Figure size 432x288 with 1 Axes>"
      ]
     },
     "metadata": {
      "needs_background": "light"
     },
     "output_type": "display_data"
    }
   ],
   "source": [
    "alldata['Cabin'] = alldata['Cabin'].fillna(\"None\")\n",
    "alldata['Cabin'] = alldata['Cabin'].map(lambda x:str(x)[0])\n",
    "cabindata = pd.crosstab(alldata['Cabin'],alldata['Survived']).apply(lambda x: x/x.sum() * 100, axis=1)\n",
    "cabindata.plot.bar(stacked=True)"
   ]
  },
  {
   "cell_type": "markdown",
   "metadata": {},
   "source": [
    "- Tは度数が少ないので、Nに合わして、１とする、BDEは統一して2、その他は3とする"
   ]
  },
  {
   "cell_type": "code",
   "execution_count": 858,
   "metadata": {},
   "outputs": [
    {
     "data": {
      "text/plain": [
       "<matplotlib.axes._subplots.AxesSubplot at 0x1a3f9eee10>"
      ]
     },
     "execution_count": 858,
     "metadata": {},
     "output_type": "execute_result"
    },
    {
     "data": {
      "image/png": "[encoded data removed]",
      "text/plain": [
       "<Figure size 432x288 with 1 Axes>"
      ]
     },
     "metadata": {
      "needs_background": "light"
     },
     "output_type": "display_data"
    }
   ],
   "source": [
    "cabindata = pd.crosstab(alldata['Cabin'],alldata.Survived.count())\n",
    "cabindata.plot.bar(stacked=True)"
   ]
  },
  {
   "cell_type": "code",
   "execution_count": 859,
   "metadata": {},
   "outputs": [],
   "source": [
    "alldata['Cabin'] = alldata['Cabin'].replace({'T': 1, 'N': 1})\n",
    "alldata['Cabin'] =alldata['Cabin'].replace({'B': 2, 'D': 2,'E': 2})\n",
    "alldata['Cabin'] = alldata['Cabin'].replace({'A': 3, 'C': 3,'F': 3,'G': 3})"
   ]
  },
  {
   "cell_type": "markdown",
   "metadata": {},
   "source": [
    "-　再度クロス集計で確認をする\n",
    "- 1と2で30%以上の幅を確認"
   ]
  },
  {
   "cell_type": "code",
   "execution_count": 860,
   "metadata": {},
   "outputs": [
    {
     "data": {
      "text/plain": [
       "<matplotlib.axes._subplots.AxesSubplot at 0x1a3faf6bd0>"
      ]
     },
     "execution_count": 860,
     "metadata": {},
     "output_type": "execute_result"
    },
    {
     "data": {
      "image/png": "[encoded data removed]",
      "text/plain": [
       "<Figure size 432x288 with 1 Axes>"
      ]
     },
     "metadata": {
      "needs_background": "light"
     },
     "output_type": "display_data"
    }
   ],
   "source": [
    "cabindata = pd.crosstab(alldata['Cabin'],alldata['Survived']).apply(lambda x: x/x.sum() * 100, axis=1)\n",
    "cabindata.plot.bar(stacked=True)"
   ]
  },
  {
   "cell_type": "markdown",
   "metadata": {},
   "source": [
    "- 度数に問題がないので説明変数として採用\n",
    "\n",
    "\n",
    "|採用項目|値|\n",
    "|-|-|\n",
    "|Pclass|1,2,3|\n",
    "|Name_length|1,2,3,4|\n",
    "|honorific|1,2,3|\n",
    "|Sex|1,2|\n",
    "|honorific|1,2,3|\n",
    "|Family|1,2|\n",
    "|Ticket|1,2,3|\n",
    "|Fare|1,2,5|\n",
    "|Cabin|1,2,3|\n",
    "\n",
    "|不採用項目|\n",
    "|-|\n",
    "|Age_check|\n",
    "|Age|\n",
    "|SibSp|\n",
    "|Parch|"
   ]
  },
  {
   "cell_type": "code",
   "execution_count": 861,
   "metadata": {},
   "outputs": [
    {
     "data": {
      "text/plain": [
       "<matplotlib.axes._subplots.AxesSubplot at 0x1a3fbcf5d0>"
      ]
     },
     "execution_count": 861,
     "metadata": {},
     "output_type": "execute_result"
    },
    {
     "data": {
      "image/png": "[encoded data removed]",
      "text/plain": [
       "<Figure size 432x288 with 1 Axes>"
      ]
     },
     "metadata": {
      "needs_background": "light"
     },
     "output_type": "display_data"
    }
   ],
   "source": [
    "cabindata = pd.crosstab(alldata['Cabin'],alldata.Survived.count())\n",
    "cabindata.plot.bar(stacked=True)"
   ]
  },
  {
   "cell_type": "markdown",
   "metadata": {},
   "source": [
    "## Embarkedで生存率の確認\n",
    "- Embarked(出港地)による特徴を確認する\n",
    "- 【仮説】\n",
    "出港地による、特徴はあまりなさそうだが、確認はしてみる"
   ]
  },
  {
   "cell_type": "markdown",
   "metadata": {},
   "source": [
    "- 欠損値を最頻値Noneで埋める\n",
    "- それぞれのembarkedの生存率を確認\n",
    "- Noneは度数が２しかなく、他は幅が30%以下なので、説明変数としては不採用\n",
    "\n",
    "|採用項目|値|\n",
    "|-|-|\n",
    "|Pclass|1,2,3|\n",
    "|Name_length|1,2,3,4|\n",
    "|honorific|1,2,3|\n",
    "|Sex|1,2|\n",
    "|honorific|1,2,3|\n",
    "|Family|1,2|\n",
    "|Ticket|1,2,3|\n",
    "|Fare|1,2,5|\n",
    "|Cabin|1,2,3|\n",
    "\n",
    "|不採用項目|\n",
    "|-|\n",
    "|Age_check|\n",
    "|Age|\n",
    "|SibSp|\n",
    "|Parch|\n",
    "|Embarked|"
   ]
  },
  {
   "cell_type": "code",
   "execution_count": 862,
   "metadata": {},
   "outputs": [],
   "source": [
    "alldata[\"Embarked\"] = alldata[\"Embarked\"].fillna(\"None\")"
   ]
  },
  {
   "cell_type": "code",
   "execution_count": 863,
   "metadata": {},
   "outputs": [
    {
     "data": {
      "text/plain": [
       "<matplotlib.axes._subplots.AxesSubplot at 0x1a3fcadb50>"
      ]
     },
     "execution_count": 863,
     "metadata": {},
     "output_type": "execute_result"
    },
    {
     "data": {
      "image/png": "[encoded data removed]",
      "text/plain": [
       "<Figure size 432x288 with 1 Axes>"
      ]
     },
     "metadata": {
      "needs_background": "light"
     },
     "output_type": "display_data"
    }
   ],
   "source": [
    "embarkeddata = pd.crosstab(alldata['Embarked'],alldata['Survived']).apply(lambda x: x/x.sum() * 100, axis=1)\n",
    "embarkeddata.plot.bar(stacked=True)"
   ]
  },
  {
   "cell_type": "markdown",
   "metadata": {},
   "source": [
    "## ■データの整理\n",
    "\n",
    "- 不採用変数列を削除\n",
    "- Name列もユニークが多すぎるので削除\n",
    "- Survived列は目的変数のため削除する、PassengerIdも特徴と関係がないので削除する\n",
    "\n",
    "\n",
    "|採用項目|値|\n",
    "|-|-|\n",
    "|Pclass|1,2,3|\n",
    "|Name_length|1,2,3,4|\n",
    "|honorific|1,2,3|\n",
    "|Sex|1,2|\n",
    "|honorific|1,2,3|\n",
    "|Family|1,2|\n",
    "|Ticket|1,2,3|\n",
    "|Fare|1,2,4|\n",
    "|Cabin|1,2,3|\n",
    "\n",
    "|不採用項目|\n",
    "|-|\n",
    "|Age_check|\n",
    "|Age|\n",
    "|SibSp|\n",
    "|Parch|\n",
    "|Embarked|\n",
    "\n",
    "|削除列|\n",
    "|-|\n",
    "|Name|\n",
    "|Survived|"
   ]
  },
  {
   "cell_type": "code",
   "execution_count": 864,
   "metadata": {},
   "outputs": [],
   "source": [
    "delcols =[\"Age_check\",\"Age\",\"SibSp\",\"Parch\",\"Embarked\",\"Name\",\"Survived\",\"PassengerId\"]\n",
    "alldata = alldata.drop(delcols, axis=1)"
   ]
  },
  {
   "cell_type": "markdown",
   "metadata": {},
   "source": [
    "- 改めて、データをinfoで確認をする\n",
    "- 欠損が全て埋まっているのを確認\n",
    "- 数値の大きさに影響されずにカテゴリーとして学習をしたいため、objectデータに変換する\n",
    "- 学習がしやすくなるようにget_dummiesで１つの特徴ごとに列を作成する"
   ]
  },
  {
   "cell_type": "code",
   "execution_count": 865,
   "metadata": {},
   "outputs": [
    {
     "name": "stdout",
     "output_type": "stream",
     "text": [
      "<class 'pandas.core.frame.DataFrame'>\n",
      "Int64Index: 1309 entries, 0 to 417\n",
      "Data columns (total 9 columns):\n",
      " #   Column         Non-Null Count  Dtype  \n",
      "---  ------         --------------  -----  \n",
      " 0   Pclass         1309 non-null   int64  \n",
      " 1   Sex            1309 non-null   object \n",
      " 2   Ticket         1309 non-null   object \n",
      " 3   Fare           1309 non-null   float64\n",
      " 4   Cabin          1309 non-null   int64  \n",
      " 5   train_or_test  1309 non-null   object \n",
      " 6   Name_length    1309 non-null   int64  \n",
      " 7   honorific      1309 non-null   int64  \n",
      " 8   Family         1309 non-null   int64  \n",
      "dtypes: float64(1), int64(5), object(3)\n",
      "memory usage: 102.3+ KB\n"
     ]
    }
   ],
   "source": [
    "alldata.info()"
   ]
  },
  {
   "cell_type": "code",
   "execution_count": 866,
   "metadata": {},
   "outputs": [],
   "source": [
    "alldata = alldata.astype('object')\n",
    "alldata = pd.get_dummies(alldata)\n"
   ]
  },
  {
   "cell_type": "markdown",
   "metadata": {},
   "source": [
    "## ■学習用データの作成\n",
    "\n",
    "- test データとtrainデータに戻す（train_or_test_train列が1の列はtrain、train_or_test_test列が1の列は1の列はtestにする）\n",
    "- train_or_testを削除\n",
    "- 最初に作ったSurvivedを目的ラベルのy_trainにする\n",
    "- trainデータを学習用のx_trainにする\n",
    "- testデータをx_testにする"
   ]
  },
  {
   "cell_type": "code",
   "execution_count": 867,
   "metadata": {},
   "outputs": [],
   "source": [
    "train = alldata.query('train_or_test_train == 1')\n",
    "test =  alldata.query('train_or_test_test == 1')\n",
    "\n",
    "delcols =[\"train_or_test_test\",\"train_or_test_train\"]\n",
    "\n",
    "# train = alldata.query('train_or_test == \"train\"')\n",
    "# test =  alldata.query('train_or_test == \"test\"')\n",
    "# delcols =[\"train_or_test\"]\n",
    "train = train.drop(delcols ,axis=1)\n",
    "test = test.drop(delcols ,axis=1)\n",
    "y_train = Survived\n",
    "x_train = train\n",
    "x_test = test"
   ]
  },
  {
   "cell_type": "markdown",
   "metadata": {},
   "source": [
    "- 提出するまでに、各モデルの精度を確認するため、学習用データから、検証用データを作成する"
   ]
  },
  {
   "cell_type": "code",
   "execution_count": 868,
   "metadata": {},
   "outputs": [],
   "source": [
    "x_train,x_valid,y_train,y_valid = train_test_split(x_train,y_train, test_size=0.3)"
   ]
  },
  {
   "cell_type": "markdown",
   "metadata": {},
   "source": [
    "## ■decisiontreeで機械学習を行う\n",
    "- グリッドサーチで学習に使うパラメータをセットする\n",
    "- train dataで学習を行う、パラメータも最適化する\n",
    "- 検証用dataでscoreの精度を確認"
   ]
  },
  {
   "cell_type": "code",
   "execution_count": 869,
   "metadata": {},
   "outputs": [],
   "source": [
    "param_grid= {\"max_depth\": [3, 4,None],\n",
    "             \"splitter\": [\"best\", \"random\"],\n",
    "              \"min_samples_split\": [2, 3, 5],\n",
    "              \"min_samples_leaf\": [2, 3, 5],\n",
    "              \"criterion\": [\"gini\", \"entropy\"]}"
   ]
  },
  {
   "cell_type": "code",
   "execution_count": 870,
   "metadata": {},
   "outputs": [
    {
     "data": {
      "text/plain": [
       "84.33"
      ]
     },
     "execution_count": 870,
     "metadata": {},
     "output_type": "execute_result"
    }
   ],
   "source": [
    "score = 'f1'\n",
    "decisiontree = GridSearchCV(\n",
    "DecisionTreeClassifier(),\n",
    "param_grid = param_grid,\n",
    "cv=10,\n",
    ")\n",
    "decisiontree.fit(x_train,y_train)\n",
    "y_pred1 = decisiontree.predict(x_test)\n",
    "acc_decisiontree =round(decisiontree.score(x_valid,y_valid)*100,2)\n",
    "acc_decisiontree"
   ]
  },
  {
   "cell_type": "markdown",
   "metadata": {},
   "source": [
    "## ■random_forestで機械学習で計算を行う\n",
    "- グリッドサーチで学習に使うパラメータをセットする\n",
    "- train dataで学習を行う、パラメータも最適化する\n",
    "- 検証用dataでscoreの精度を確認"
   ]
  },
  {
   "cell_type": "code",
   "execution_count": 879,
   "metadata": {},
   "outputs": [],
   "source": [
    "param_grid = {\"max_depth\": [3, 4,None],\n",
    "              \"n_estimators\":[500,600,700],\n",
    "              \"min_samples_split\": [2,3, 5],\n",
    "              \"min_samples_leaf\": [2, 3, 5],\n",
    "              \"criterion\": [\"gini\", \"entropy\"]}"
   ]
  },
  {
   "cell_type": "code",
   "execution_count": 880,
   "metadata": {},
   "outputs": [
    {
     "data": {
      "text/plain": [
       "85.07"
      ]
     },
     "execution_count": 880,
     "metadata": {},
     "output_type": "execute_result"
    }
   ],
   "source": [
    "score = 'f1'\n",
    "random_forest = GridSearchCV(\n",
    "RandomForestClassifier(),\n",
    "param_grid = param_grid,\n",
    "cv=5,\n",
    ")\n",
    "\n",
    "random_forest.fit(x_train, y_train)\n",
    "y_pred2 = random_forest.predict(x_test)\n",
    "random_forest.score(x_valid, y_valid)\n",
    "\n",
    "acc_random_forest = round(random_forest.score(x_valid, y_valid) * 100, 2)\n",
    "acc_random_forest"
   ]
  },
  {
   "cell_type": "markdown",
   "metadata": {},
   "source": [
    "## ■support vector machineで機械学習を行う\n",
    "- グリッドサーチで学習に使うパラメータをセットする\n",
    "- train dataで学習を行う、パラメータも最適化する\n",
    "- 検証用dataでscoreの精度を確認"
   ]
  },
  {
   "cell_type": "code",
   "execution_count": 873,
   "metadata": {},
   "outputs": [],
   "source": [
    "param_grid_linearscv = {'C':[1,10,20,100],\n",
    "                        'gamma': [1, 0.1, 0.01, 0.001, 0.0001],\n",
    "                      }"
   ]
  },
  {
   "cell_type": "code",
   "execution_count": 874,
   "metadata": {},
   "outputs": [
    {
     "data": {
      "text/plain": [
       "85.45"
      ]
     },
     "execution_count": 874,
     "metadata": {},
     "output_type": "execute_result"
    }
   ],
   "source": [
    "score ='f1'\n",
    "linearscv =GridSearchCV(\n",
    "SVC(),\n",
    "param_grid = param_grid_linearscv,\n",
    "cv=5,\n",
    ")\n",
    "linearscv.fit(x_train,y_train)\n",
    "y_pred3 = linearscv.predict(x_test)\n",
    "aa_linearscv = round(linearscv.score(x_valid,y_valid)*100,2)\n",
    "aa_linearscv"
   ]
  },
  {
   "cell_type": "markdown",
   "metadata": {},
   "source": [
    "## ■LogisticRegressionで機械学習を行う\n",
    "- グリッドサーチで学習に使うパラメータをセットする\n",
    "- train dataで学習を行う、パラメータも最適化する\n",
    "- 検証用dataでscoreの精度を確認"
   ]
  },
  {
   "cell_type": "code",
   "execution_count": 875,
   "metadata": {},
   "outputs": [],
   "source": [
    "param_grid_logisticregression = {'C': [1, 0.1, 0.01],\n",
    "                        'penalty':[\"l1\",\"l2\"]}"
   ]
  },
  {
   "cell_type": "code",
   "execution_count": 876,
   "metadata": {},
   "outputs": [
    {
     "name": "stderr",
     "output_type": "stream",
     "text": [
      "/Users/tatsuhiro/opt/anaconda3/lib/python3.7/site-packages/sklearn/model_selection/_validation.py:536: FitFailedWarning: Estimator fit failed. The score on this train-test partition for these parameters will be set to nan. Details: \n",
      "ValueError: Solver lbfgs supports only 'l2' or 'none' penalties, got l1 penalty.\n",
      "\n",
      "  FitFailedWarning)\n",
      "/Users/tatsuhiro/opt/anaconda3/lib/python3.7/site-packages/sklearn/model_selection/_validation.py:536: FitFailedWarning: Estimator fit failed. The score on this train-test partition for these parameters will be set to nan. Details: \n",
      "ValueError: Solver lbfgs supports only 'l2' or 'none' penalties, got l1 penalty.\n",
      "\n",
      "  FitFailedWarning)\n",
      "/Users/tatsuhiro/opt/anaconda3/lib/python3.7/site-packages/sklearn/model_selection/_validation.py:536: FitFailedWarning: Estimator fit failed. The score on this train-test partition for these parameters will be set to nan. Details: \n",
      "ValueError: Solver lbfgs supports only 'l2' or 'none' penalties, got l1 penalty.\n",
      "\n",
      "  FitFailedWarning)\n"
     ]
    },
    {
     "data": {
      "text/plain": [
       "80.97"
      ]
     },
     "execution_count": 876,
     "metadata": {},
     "output_type": "execute_result"
    }
   ],
   "source": [
    "score ='f1'\n",
    "ｌogisticregression =GridSearchCV(\n",
    "LogisticRegression(),\n",
    "param_grid = param_grid_logisticregression,\n",
    "cv=5,\n",
    ")\n",
    "ｌogisticregression.fit(x_train,y_train)\n",
    "y_pred4 = linearscv.predict(x_test)\n",
    "aa_ｌogisticregression = round(ｌogisticregression.score(x_valid,y_valid)*100,2)\n",
    "aa_ｌogisticregression"
   ]
  },
  {
   "cell_type": "markdown",
   "metadata": {},
   "source": [
    "- 検証用スコアをそれぞれ比較"
   ]
  },
  {
   "cell_type": "code",
   "execution_count": 877,
   "metadata": {},
   "outputs": [
    {
     "data": {
      "image/png": "[encoded data removed]",
      "text/plain": [
       "<Figure size 432x288 with 1 Axes>"
      ]
     },
     "metadata": {
      "needs_background": "light"
     },
     "output_type": "display_data"
    }
   ],
   "source": [
    "plt.barh([0,1,2,3], [acc_decisiontree,acc_random_forest,aa_linearscv,aa_ｌogisticregression], height=0.4, align=\"center\")\n",
    "plt.yticks([0,1,2,3],['decisiontree', 'random_forest', 'support vector machine', 'LogisticRegression'])\n",
    "plt.xlim([75,88])\n",
    "plt.xticks([75,76,77,78,79,80,81,82,83,84,85,86,87,88])\n",
    "plt.show()"
   ]
  },
  {
   "cell_type": "markdown",
   "metadata": {},
   "source": [
    "## ■提出用のfile作成\n",
    "\n",
    "- 一番精度が良かったy_predを入力\n",
    "- 提出用のcsv fileを作成する"
   ]
  },
  {
   "cell_type": "code",
   "execution_count": 881,
   "metadata": {},
   "outputs": [],
   "source": [
    "submission = pd.DataFrame({\n",
    "        \"PassengerId\": passengerID,\n",
    "        \"Survived\": y_pred2\n",
    "    })\n",
    "submission.to_csv('submission.csv', index=False)"
   ]
  },
  {
   "cell_type": "markdown",
   "metadata": {},
   "source": [
    "## ■提出結果\n",
    "\n",
    "- 最高で上位４％に\n",
    "<img src =\"data/score.jpg\">"
   ]
  },
  {
   "cell_type": "code",
   "execution_count": null,
   "metadata": {},
   "outputs": [],
   "source": []
  }
 ],
 "metadata": {
  "kernelspec": {
   "display_name": "Python 3",
   "language": "python",
   "name": "python3"
  },
  "language_info": {
   "codemirror_mode": {
    "name": "ipython",
    "version": 3
   },
   "file_extension": ".py",
   "mimetype": "text/x-python",
   "name": "python",
   "nbconvert_exporter": "python",
   "pygments_lexer": "ipython3",
   "version": "3.7.6"
  }
 },
 "nbformat": 4,
 "nbformat_minor": 4
}
